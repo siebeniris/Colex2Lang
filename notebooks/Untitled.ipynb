{
 "cells": [
  {
   "cell_type": "code",
   "execution_count": 14,
   "id": "d9f52ec9-2b61-4172-a7f3-28a80bd7c90f",
   "metadata": {
    "tags": []
   },
   "outputs": [],
   "source": [
    "import os\n",
    "import seaborn as sns\n",
    "import matplotlib.pyplot as plt\n",
    "from sklearn.manifold import TSNE\n",
    "\n",
    "%matplotlib inline"
   ]
  },
  {
   "cell_type": "code",
   "execution_count": 4,
   "id": "4dd2a2d0-070e-4ef0-acb9-dc35c08e1a33",
   "metadata": {
    "tags": []
   },
   "outputs": [],
   "source": [
    "from gensim.models import KeyedVectors"
   ]
  },
  {
   "cell_type": "code",
   "execution_count": 5,
   "id": "8dd1c55c-4971-47ca-bfcd-01e3cfb5facc",
   "metadata": {
    "tags": []
   },
   "outputs": [],
   "source": [
    "# Norwegian, Swedish, Danish, Icelandic, Faroese, Finnish, Estonian, Latvian, Lithuanian, Greenlandic\n",
    "lang_clics_list = [ \"nob\", \"swe\", \"dan\", \"isl\", \"fin\", \"lav\", \"lit\", \"kal\"]\n",
    "\n",
    "lang_wn_list = [ \"swe\", \"dan\", \"isl\", \"fin\", \"est\", \"lav\", \"lit\", \"kal\" ]"
   ]
  },
  {
   "cell_type": "code",
   "execution_count": 8,
   "id": "6349cdb9-7ad6-41e1-9fa3-569b288c8051",
   "metadata": {
    "tags": []
   },
   "outputs": [],
   "source": [
    "clics_embeddings = KeyedVectors.load_word2vec_format(os.path.join(\"../data/language_embeddings/concat+max\", \"clics_prone_embeddings\" ), binary=False)\n",
    "wn_embeddings = KeyedVectors.load_word2vec_format(os.path.join(\"../data/language_embeddings/add+avg\", \"wn_glove_embeddings\" ), binary=False)\n",
    "wn_concept_embeddings = KeyedVectors.load_word2vec_format(os.path.join(\"../data/language_embeddings/concat+avg\", \"wn_concept_glove_embeddings\" ), binary=False)"
   ]
  },
  {
   "cell_type": "code",
   "execution_count": 9,
   "id": "b468dc28-dfd7-4294-9137-124a0e80722d",
   "metadata": {
    "tags": []
   },
   "outputs": [],
   "source": [
    "wn_vectors = dict()\n",
    "for l in lang_wn_list:\n",
    "    wn_vectors[l]=wn_embeddings[l]"
   ]
  },
  {
   "cell_type": "code",
   "execution_count": 11,
   "id": "60f3afab-7603-4836-ad84-03951277e1a5",
   "metadata": {
    "tags": []
   },
   "outputs": [],
   "source": [
    "wn_concept_vectors = dict()\n",
    "for l in lang_wn_list:\n",
    "    wn_concept_vectors[l]=wn_concept_embeddings[l]"
   ]
  },
  {
   "cell_type": "code",
   "execution_count": 12,
   "id": "d0f7b001-31da-4bae-afe2-9a45dc93293b",
   "metadata": {
    "tags": []
   },
   "outputs": [],
   "source": [
    "clics_vectors = dict()\n",
    "for l in lang_clics_list:\n",
    "    clics_vectors[l]=clics_embeddings[l]"
   ]
  },
  {
   "cell_type": "code",
   "execution_count": 38,
   "id": "125595f7-3b33-470d-8ce1-ec8b94d4914a",
   "metadata": {
    "tags": []
   },
   "outputs": [],
   "source": [
    "import numpy as np\n",
    "import pandas as pd"
   ]
  },
  {
   "cell_type": "code",
   "execution_count": 60,
   "id": "348898f2-b17c-4260-8056-b739c83be546",
   "metadata": {
    "tags": []
   },
   "outputs": [],
   "source": [
    "wn_concept_vec = np.array(list(wn_concept_vectors.values()))\n",
    "wn_vec = np.array(list(wn_vectors.values()))\n",
    "clics_vec = np.array(list(clics_vectors.values()))"
   ]
  },
  {
   "cell_type": "code",
   "execution_count": 115,
   "id": "4f49e389-4c66-4ee7-b831-48f146de7cf2",
   "metadata": {
    "tags": []
   },
   "outputs": [],
   "source": [
    "wn_embedded = TSNE(n_components=2, perplexity=7).fit_transform(wn_vec)\n",
    "df_wn  = pd.DataFrame(wn_embedded)\n",
    "df_wn = df_wn.rename(columns={0:'x',1:'y'})\n",
    "df_wn = df_wn.assign(label=lang_wn_list)\n",
    "df_wn[\"Model\"] =[\"WordNet\" for _ in range(len(df_wn))]"
   ]
  },
  {
   "cell_type": "code",
   "execution_count": 116,
   "id": "b01271a6-0c2c-43cc-8695-89fd48ccd35b",
   "metadata": {
    "tags": []
   },
   "outputs": [],
   "source": [
    "wn_concept_embedded = TSNE(n_components=2, perplexity=3).fit_transform(wn_concept_vec)\n",
    "df_wn_concept  = pd.DataFrame(wn_concept_embedded)\n",
    "df_wn_concept = df_wn_concept.rename(columns={0:'x',1:'y'})\n",
    "df_wn_concept = df_wn_concept.assign(label=lang_wn_list)\n",
    "df_wn_concept[\"Model\"] =[\"WordNet Concept\" for _ in range(len(df_wn_concept))]"
   ]
  },
  {
   "cell_type": "code",
   "execution_count": 117,
   "id": "e7157655-09fb-4e69-8e24-c49f3d5a25f4",
   "metadata": {
    "tags": []
   },
   "outputs": [],
   "source": [
    "clics_embedded= TSNE(n_components=2, perplexity=3).fit_transform(clics_vec)\n",
    "df_clics  = pd.DataFrame(clics_embedded)\n",
    "df_clics = df_clics.rename(columns={0:'x',1:'y'})\n",
    "df_clics = df_clics.assign(label=lang_wn_list)\n",
    "df_clics[\"Model\"] =[\"CLICS\" for _ in range(len(df_clics))]"
   ]
  },
  {
   "cell_type": "code",
   "execution_count": 118,
   "id": "fc8f943b-1158-4865-95cb-f9f9ff483125",
   "metadata": {
    "tags": []
   },
   "outputs": [],
   "source": [
    "df_concat = pd.concat([df_clics, df_wn_concept, df_wn], axis=0)"
   ]
  },
  {
   "cell_type": "code",
   "execution_count": 119,
   "id": "dd16f46a-3eb1-4eeb-93fb-4726f4e8e2cf",
   "metadata": {
    "tags": []
   },
   "outputs": [],
   "source": [
    "df_concat.rename(columns={\"label\":\"Language\"}, inplace=True)\n"
   ]
  },
  {
   "cell_type": "code",
   "execution_count": 120,
   "id": "5f0a6c3e-6d14-48f7-87f3-8da93c7fed8a",
   "metadata": {
    "tags": []
   },
   "outputs": [],
   "source": [
    "language_dict={\"nob\":\"Norwegian\", \"swe\":\"Swedish\",\"dan\": \"Danish\",\"isl\": \"Icelandic\", \"fin\":\"Finnish\", \"est\":\"Estonian\", \"lav\":\"Latvian\", \n",
    "               \"lit\":\"Lithuanian\", \"kal\":\"Greenlandic\"}"
   ]
  },
  {
   "cell_type": "code",
   "execution_count": 121,
   "id": "346e64d6-4848-43c6-88f0-c040ff82c0f3",
   "metadata": {
    "tags": []
   },
   "outputs": [],
   "source": [
    "df_concat[\"Language\"].replace(language_dict,inplace=True)"
   ]
  },
  {
   "cell_type": "code",
   "execution_count": 122,
   "id": "6c3809f7-9be6-463f-b774-cec430cd7497",
   "metadata": {
    "tags": []
   },
   "outputs": [
    {
     "data": {
      "text/html": [
       "<svg  width=\"550\" height=\"55\"><rect x=\"0\" y=\"0\" width=\"55\" height=\"55\" style=\"fill:#4c72b0;stroke-width:2;stroke:rgb(255,255,255)\"/><rect x=\"55\" y=\"0\" width=\"55\" height=\"55\" style=\"fill:#dd8452;stroke-width:2;stroke:rgb(255,255,255)\"/><rect x=\"110\" y=\"0\" width=\"55\" height=\"55\" style=\"fill:#55a868;stroke-width:2;stroke:rgb(255,255,255)\"/><rect x=\"165\" y=\"0\" width=\"55\" height=\"55\" style=\"fill:#c44e52;stroke-width:2;stroke:rgb(255,255,255)\"/><rect x=\"220\" y=\"0\" width=\"55\" height=\"55\" style=\"fill:#8172b3;stroke-width:2;stroke:rgb(255,255,255)\"/><rect x=\"275\" y=\"0\" width=\"55\" height=\"55\" style=\"fill:#937860;stroke-width:2;stroke:rgb(255,255,255)\"/><rect x=\"330\" y=\"0\" width=\"55\" height=\"55\" style=\"fill:#da8bc3;stroke-width:2;stroke:rgb(255,255,255)\"/><rect x=\"385\" y=\"0\" width=\"55\" height=\"55\" style=\"fill:#8c8c8c;stroke-width:2;stroke:rgb(255,255,255)\"/><rect x=\"440\" y=\"0\" width=\"55\" height=\"55\" style=\"fill:#ccb974;stroke-width:2;stroke:rgb(255,255,255)\"/><rect x=\"495\" y=\"0\" width=\"55\" height=\"55\" style=\"fill:#64b5cd;stroke-width:2;stroke:rgb(255,255,255)\"/></svg>"
      ],
      "text/plain": [
       "[(0.2980392156862745, 0.4470588235294118, 0.6901960784313725),\n",
       " (0.8666666666666667, 0.5176470588235295, 0.3215686274509804),\n",
       " (0.3333333333333333, 0.6588235294117647, 0.40784313725490196),\n",
       " (0.7686274509803922, 0.3058823529411765, 0.3215686274509804),\n",
       " (0.5058823529411764, 0.4470588235294118, 0.7019607843137254),\n",
       " (0.5764705882352941, 0.47058823529411764, 0.3764705882352941),\n",
       " (0.8549019607843137, 0.5450980392156862, 0.7647058823529411),\n",
       " (0.5490196078431373, 0.5490196078431373, 0.5490196078431373),\n",
       " (0.8, 0.7254901960784313, 0.4549019607843137),\n",
       " (0.39215686274509803, 0.7098039215686275, 0.803921568627451)]"
      ]
     },
     "execution_count": 122,
     "metadata": {},
     "output_type": "execute_result"
    }
   ],
   "source": [
    "sns.set(style=\"whitegrid\")\n",
    "sns.color_palette()\n"
   ]
  },
  {
   "cell_type": "code",
   "execution_count": 123,
   "id": "0a0cba7e-4da7-4100-aa56-c1d65acbdf73",
   "metadata": {
    "tags": []
   },
   "outputs": [
    {
     "data": {
      "image/png": "[encoded data removed]",
      "text/plain": [
       "<Figure size 1200x700 with 1 Axes>"
      ]
     },
     "metadata": {},
     "output_type": "display_data"
    }
   ],
   "source": [
    "plt.figure(figsize=(12,7))\n",
    "g = sns.scatterplot(data=df_concat, x=\"x\", y=\"y\", hue=\"Language\", style=\"Model\", s=120)\n",
    "sns.move_legend(g, \"upper left\", bbox_to_anchor=(1, 1))\n",
    "plt.savefig(\"../output/tsne.png\")"
   ]
  },
  {
   "cell_type": "code",
   "execution_count": 105,
   "id": "1605df15-6dc5-4250-a265-5441e345a9e5",
   "metadata": {
    "tags": []
   },
   "outputs": [
    {
     "data": {
      "text/plain": [
       "<Figure size 640x480 with 0 Axes>"
      ]
     },
     "metadata": {},
     "output_type": "display_data"
    }
   ],
   "source": []
  },
  {
   "cell_type": "code",
   "execution_count": 70,
   "id": "c0798699-8f72-4c3a-92cb-0725d72f8f16",
   "metadata": {
    "tags": []
   },
   "outputs": [
    {
     "data": {
      "text/html": [
       "<div>\n",
       "<style scoped>\n",
       "    .dataframe tbody tr th:only-of-type {\n",
       "        vertical-align: middle;\n",
       "    }\n",
       "\n",
       "    .dataframe tbody tr th {\n",
       "        vertical-align: top;\n",
       "    }\n",
       "\n",
       "    .dataframe thead th {\n",
       "        text-align: right;\n",
       "    }\n",
       "</style>\n",
       "<table border=\"1\" class=\"dataframe\">\n",
       "  <thead>\n",
       "    <tr style=\"text-align: right;\">\n",
       "      <th></th>\n",
       "      <th>x</th>\n",
       "      <th>y</th>\n",
       "      <th>label</th>\n",
       "      <th>model</th>\n",
       "    </tr>\n",
       "  </thead>\n",
       "  <tbody>\n",
       "    <tr>\n",
       "      <th>0</th>\n",
       "      <td>-91.079704</td>\n",
       "      <td>-81.178497</td>\n",
       "      <td>swe</td>\n",
       "      <td>CLICS</td>\n",
       "    </tr>\n",
       "    <tr>\n",
       "      <th>1</th>\n",
       "      <td>57.577122</td>\n",
       "      <td>-34.204426</td>\n",
       "      <td>dan</td>\n",
       "      <td>CLICS</td>\n",
       "    </tr>\n",
       "    <tr>\n",
       "      <th>2</th>\n",
       "      <td>20.256460</td>\n",
       "      <td>-44.783371</td>\n",
       "      <td>isl</td>\n",
       "      <td>CLICS</td>\n",
       "    </tr>\n",
       "    <tr>\n",
       "      <th>3</th>\n",
       "      <td>-39.563702</td>\n",
       "      <td>-71.797943</td>\n",
       "      <td>fin</td>\n",
       "      <td>CLICS</td>\n",
       "    </tr>\n",
       "    <tr>\n",
       "      <th>4</th>\n",
       "      <td>44.244835</td>\n",
       "      <td>11.678198</td>\n",
       "      <td>est</td>\n",
       "      <td>CLICS</td>\n",
       "    </tr>\n",
       "    <tr>\n",
       "      <th>5</th>\n",
       "      <td>102.040108</td>\n",
       "      <td>-21.645002</td>\n",
       "      <td>lav</td>\n",
       "      <td>CLICS</td>\n",
       "    </tr>\n",
       "    <tr>\n",
       "      <th>6</th>\n",
       "      <td>111.744804</td>\n",
       "      <td>-74.482140</td>\n",
       "      <td>lit</td>\n",
       "      <td>CLICS</td>\n",
       "    </tr>\n",
       "    <tr>\n",
       "      <th>7</th>\n",
       "      <td>-37.513775</td>\n",
       "      <td>13.417786</td>\n",
       "      <td>kal</td>\n",
       "      <td>CLICS</td>\n",
       "    </tr>\n",
       "    <tr>\n",
       "      <th>0</th>\n",
       "      <td>8.770783</td>\n",
       "      <td>-46.111870</td>\n",
       "      <td>swe</td>\n",
       "      <td>WordNet Concept</td>\n",
       "    </tr>\n",
       "    <tr>\n",
       "      <th>1</th>\n",
       "      <td>-22.084505</td>\n",
       "      <td>-89.455124</td>\n",
       "      <td>dan</td>\n",
       "      <td>WordNet Concept</td>\n",
       "    </tr>\n",
       "    <tr>\n",
       "      <th>2</th>\n",
       "      <td>-27.313763</td>\n",
       "      <td>-157.804749</td>\n",
       "      <td>isl</td>\n",
       "      <td>WordNet Concept</td>\n",
       "    </tr>\n",
       "    <tr>\n",
       "      <th>3</th>\n",
       "      <td>28.166687</td>\n",
       "      <td>33.331013</td>\n",
       "      <td>fin</td>\n",
       "      <td>WordNet Concept</td>\n",
       "    </tr>\n",
       "    <tr>\n",
       "      <th>4</th>\n",
       "      <td>170.883011</td>\n",
       "      <td>-99.572784</td>\n",
       "      <td>est</td>\n",
       "      <td>WordNet Concept</td>\n",
       "    </tr>\n",
       "    <tr>\n",
       "      <th>5</th>\n",
       "      <td>162.173782</td>\n",
       "      <td>-150.686401</td>\n",
       "      <td>lav</td>\n",
       "      <td>WordNet Concept</td>\n",
       "    </tr>\n",
       "    <tr>\n",
       "      <th>6</th>\n",
       "      <td>95.233582</td>\n",
       "      <td>-53.870468</td>\n",
       "      <td>lit</td>\n",
       "      <td>WordNet Concept</td>\n",
       "    </tr>\n",
       "    <tr>\n",
       "      <th>7</th>\n",
       "      <td>-98.045311</td>\n",
       "      <td>-17.272930</td>\n",
       "      <td>kal</td>\n",
       "      <td>WordNet Concept</td>\n",
       "    </tr>\n",
       "    <tr>\n",
       "      <th>0</th>\n",
       "      <td>99.978477</td>\n",
       "      <td>-10.849132</td>\n",
       "      <td>swe</td>\n",
       "      <td>WordNet</td>\n",
       "    </tr>\n",
       "    <tr>\n",
       "      <th>1</th>\n",
       "      <td>127.285194</td>\n",
       "      <td>-22.603611</td>\n",
       "      <td>dan</td>\n",
       "      <td>WordNet</td>\n",
       "    </tr>\n",
       "    <tr>\n",
       "      <th>2</th>\n",
       "      <td>111.285126</td>\n",
       "      <td>-59.343670</td>\n",
       "      <td>isl</td>\n",
       "      <td>WordNet</td>\n",
       "    </tr>\n",
       "    <tr>\n",
       "      <th>3</th>\n",
       "      <td>105.938309</td>\n",
       "      <td>32.982773</td>\n",
       "      <td>fin</td>\n",
       "      <td>WordNet</td>\n",
       "    </tr>\n",
       "    <tr>\n",
       "      <th>4</th>\n",
       "      <td>31.826946</td>\n",
       "      <td>-58.375282</td>\n",
       "      <td>est</td>\n",
       "      <td>WordNet</td>\n",
       "    </tr>\n",
       "    <tr>\n",
       "      <th>5</th>\n",
       "      <td>10.932366</td>\n",
       "      <td>-35.224098</td>\n",
       "      <td>lav</td>\n",
       "      <td>WordNet</td>\n",
       "    </tr>\n",
       "    <tr>\n",
       "      <th>6</th>\n",
       "      <td>31.144806</td>\n",
       "      <td>3.453531</td>\n",
       "      <td>lit</td>\n",
       "      <td>WordNet</td>\n",
       "    </tr>\n",
       "    <tr>\n",
       "      <th>7</th>\n",
       "      <td>-33.516529</td>\n",
       "      <td>-18.102499</td>\n",
       "      <td>kal</td>\n",
       "      <td>WordNet</td>\n",
       "    </tr>\n",
       "  </tbody>\n",
       "</table>\n",
       "</div>"
      ],
      "text/plain": [
       "            x           y label            model\n",
       "0  -91.079704  -81.178497   swe            CLICS\n",
       "1   57.577122  -34.204426   dan            CLICS\n",
       "2   20.256460  -44.783371   isl            CLICS\n",
       "3  -39.563702  -71.797943   fin            CLICS\n",
       "4   44.244835   11.678198   est            CLICS\n",
       "5  102.040108  -21.645002   lav            CLICS\n",
       "6  111.744804  -74.482140   lit            CLICS\n",
       "7  -37.513775   13.417786   kal            CLICS\n",
       "0    8.770783  -46.111870   swe  WordNet Concept\n",
       "1  -22.084505  -89.455124   dan  WordNet Concept\n",
       "2  -27.313763 -157.804749   isl  WordNet Concept\n",
       "3   28.166687   33.331013   fin  WordNet Concept\n",
       "4  170.883011  -99.572784   est  WordNet Concept\n",
       "5  162.173782 -150.686401   lav  WordNet Concept\n",
       "6   95.233582  -53.870468   lit  WordNet Concept\n",
       "7  -98.045311  -17.272930   kal  WordNet Concept\n",
       "0   99.978477  -10.849132   swe          WordNet\n",
       "1  127.285194  -22.603611   dan          WordNet\n",
       "2  111.285126  -59.343670   isl          WordNet\n",
       "3  105.938309   32.982773   fin          WordNet\n",
       "4   31.826946  -58.375282   est          WordNet\n",
       "5   10.932366  -35.224098   lav          WordNet\n",
       "6   31.144806    3.453531   lit          WordNet\n",
       "7  -33.516529  -18.102499   kal          WordNet"
      ]
     },
     "execution_count": 70,
     "metadata": {},
     "output_type": "execute_result"
    }
   ],
   "source": [
    "df_concat"
   ]
  },
  {
   "cell_type": "code",
   "execution_count": 52,
   "id": "2cc765fe-8a65-4986-adc7-69c44e4d1d1f",
   "metadata": {
    "tags": []
   },
   "outputs": [],
   "source": [
    "import plotly.express as px\n",
    "\n",
    "fig = px.scatter(\n",
    "    df_embeddings, x='x', y='y',\n",
    "    color='label', labels={'color': 'label'},\n",
    "    hover_data=['label'], title = 'GoEmotions Embedding Visualization')\n",
    "fig.write_html('first_figure.html', auto_open=True)"
   ]
  },
  {
   "cell_type": "code",
   "execution_count": 51,
   "id": "ab60b136-f8c8-47af-abea-8dad1d8f30b5",
   "metadata": {
    "tags": []
   },
   "outputs": [],
   "source": [
    "import plotly.express as px\n",
    "fig = px.bar(x=[\"a\", \"b\", \"c\"], y=[1, 3, 2])\n",
    "fig.write_html('first_figure.html', auto_open=True)"
   ]
  },
  {
   "cell_type": "code",
   "execution_count": null,
   "id": "09f01f55-1d05-4a17-bf35-9d2e4a48462a",
   "metadata": {},
   "outputs": [],
   "source": []
  }
 ],
 "metadata": {
  "kernelspec": {
   "display_name": "nodeEmb",
   "language": "python",
   "name": "nodemb"
  },
  "language_info": {
   "codemirror_mode": {
    "name": "ipython",
    "version": 3
   },
   "file_extension": ".py",
   "mimetype": "text/x-python",
   "name": "python",
   "nbconvert_exporter": "python",
   "pygments_lexer": "ipython3",
   "version": "3.9.15"
  }
 },
 "nbformat": 4,
 "nbformat_minor": 5
}
