{
 "cells": [
  {
   "cell_type": "code",
   "execution_count": 18,
   "id": "e9a5bccb-70ce-448e-84a1-9a90a17c63e2",
   "metadata": {},
   "outputs": [],
   "source": [
    "import pandas as pd\n",
    "import json \n",
    "from itertools import chain\n",
    "from collections import defaultdict"
   ]
  },
  {
   "cell_type": "code",
   "execution_count": 4,
   "id": "72f25e3d-4d96-4a01-b715-ff03c83788d0",
   "metadata": {},
   "outputs": [],
   "source": [
    "df_parameter = pd.read_csv(\"../data/cldf-datasets-wals-878ea47/raw/parameter.csv\")"
   ]
  },
  {
   "cell_type": "code",
   "execution_count": 7,
   "id": "9be8fa89-920f-42f3-8ead-9911afe1d6aa",
   "metadata": {},
   "outputs": [],
   "source": [
    "feature2id = dict(zip([name.replace(\" \",\"_\") for name in df_parameter[\"name\"]], df_parameter[\"id\"]))"
   ]
  },
  {
   "cell_type": "code",
   "execution_count": 8,
   "id": "23f59ddc-5e4b-4228-ab1d-da10452a948b",
   "metadata": {},
   "outputs": [],
   "source": [
    "id2feature = dict(zip([name.replace(\" \",\"_\") for name in df_parameter[\"id\"]], df_parameter[\"name\"]))"
   ]
  },
  {
   "cell_type": "code",
   "execution_count": 37,
   "id": "080862a3-95ed-45ef-898b-e406d4d7439e",
   "metadata": {},
   "outputs": [
    {
     "data": {
      "text/plain": [
       "{'121A',\n",
       " '128A',\n",
       " '138A',\n",
       " '140A',\n",
       " '142A',\n",
       " '144A',\n",
       " '144B',\n",
       " '144C',\n",
       " '144D',\n",
       " '144E',\n",
       " '144F',\n",
       " '144G',\n",
       " '29A',\n",
       " '57A',\n",
       " '64A',\n",
       " '80A',\n",
       " '97A'}"
      ]
     },
     "execution_count": 37,
     "metadata": {},
     "output_type": "execute_result"
    }
   ],
   "source": [
    "difference"
   ]
  },
  {
   "cell_type": "code",
   "execution_count": 39,
   "id": "ffb74361-5ff7-4831-82f4-8bab9606755c",
   "metadata": {},
   "outputs": [
    {
     "data": {
      "text/plain": [
       "[1, 2, 3, 4, 5, 6, 7, 8, 9, 10, 11, 12, 13, 14, 15, 16, 17, 18, 19]"
      ]
     },
     "execution_count": 39,
     "metadata": {},
     "output_type": "execute_result"
    }
   ],
   "source": [
    "[x for x in range(1,20)]"
   ]
  },
  {
   "cell_type": "code",
   "execution_count": 44,
   "id": "c70ef30d-371a-4e84-a6d4-16567c622a90",
   "metadata": {},
   "outputs": [],
   "source": [
    "phonology_ids = list(chain.from_iterable([[str(x)+\"A\", str(x)+\"B\"] for x in range(1,20)]))\n",
    "morphology_ids = list(chain.from_iterable([[str(x)+\"A\", str(x)+\"B\"] for x in range(20,30)]))\n",
    "nominal_categories_ids = list(chain.from_iterable([[str(x)+\"A\", str(x)+\"B\"] for x in range(30,58)]))\n",
    "nominal_syntax_ids = list(chain.from_iterable([[str(x)+\"A\", str(x)+\"B\"] for x in range(58,65)]))\n",
    "verbal_categories_ids = list(chain.from_iterable([[str(x)+\"A\", str(x)+\"B\"] for x in range(65,81)]))\n",
    "word_order_ids = list(chain.from_iterable([[str(x)+\"A\", str(x)+\"B\", str(x)+\"C\", str(x)+\"D\", str(x)+\"E\", str(x)+\"F\", str(x)+\"G\"] for x in range(81,98)])) + list(chain.from_iterable([[str(x)+\"A\", str(x)+\"B\", str(x)+\"C\", str(x)+\"D\", str(x)+\"E\", str(x)+\"F\", str(x)+\"G\"] for x in range(143,145)])) +[str(144)+y for y in [\"H\",\"I\",\"J\",\"K\",\"L\",\"M\",\"N\",\"O\",\"P\",\"Q\",\"R\",\"S\",\"T\",\"U\",\"V\",\"W\",\"X\",\"Y\"]]\n",
    "simple_clauses_ids = list(chain.from_iterable([[str(x)+\"A\", str(x)+\"B\"] for x in range(98,122)]))\n",
    "complex_sentences_ids = list(chain.from_iterable([[str(x)+\"A\", str(x)+\"B\"] for x in range(122,129)]))\n",
    "lexicon_ids = list(chain.from_iterable([[str(x)+\"A\", str(x)+\"B\"] for x in range(129,139)]))\n",
    "sign_languages_ids = list(chain.from_iterable([[str(x)+\"A\"] for x in range(139,141)]))\n",
    "other_ids = list(chain.from_iterable([[str(x)+\"A\", str(x)+\"B\"] for x in range(141,143)]))"
   ]
  },
  {
   "cell_type": "code",
   "execution_count": 45,
   "id": "0ca50c6e-0b93-4a40-baf1-81c0e7e482cc",
   "metadata": {},
   "outputs": [
    {
     "data": {
      "text/plain": [
       "192"
      ]
     },
     "execution_count": 45,
     "metadata": {},
     "output_type": "execute_result"
    }
   ],
   "source": [
    "len(feature2id)"
   ]
  },
  {
   "cell_type": "code",
   "execution_count": 46,
   "id": "c4a8486b-0154-4361-b232-d1cf44c97240",
   "metadata": {},
   "outputs": [],
   "source": [
    "feature_dict= defaultdict(dict)\n",
    "counter= 0\n",
    "indices = []\n",
    "for idx, feature in id2feature.items():\n",
    "    if idx in phonology_ids:\n",
    "        \n",
    "        feature_dict[\"Phonology\"][idx]=feature.replace(\" \",\"_\")\n",
    "        indices.append(idx)\n",
    "        counter+=1\n",
    "    if idx in morphology_ids:\n",
    "        feature_dict[\"Morphology\"][idx] = feature.replace(\" \",\"_\")\n",
    "        indices.append(idx)\n",
    "        counter+=1\n",
    "    if idx in nominal_categories_ids:\n",
    "        feature_dict[\"Nominal_Categories\"][idx]=feature.replace(\" \",\"_\")\n",
    "        indices.append(idx)\n",
    "        counter+=1\n",
    "    if idx in nominal_syntax_ids:\n",
    "        feature_dict[\"Nominal_Syntax\"][idx]=feature.replace(\" \",\"_\")\n",
    "        indices.append(idx)\n",
    "        counter+=1\n",
    "    \n",
    "    if idx in verbal_categories_ids:\n",
    "        feature_dict[\"Verbal_Categories\"][idx]=feature.replace(\" \",\"_\")\n",
    "        indices.append(idx)\n",
    "        counter+=1\n",
    "        \n",
    "    if idx in word_order_ids:\n",
    "        feature_dict[\"Word_Order\"][idx]=feature.replace(\" \",\"_\")\n",
    "        indices.append(idx)\n",
    "        counter+=1\n",
    "    \n",
    "    if idx in simple_clauses_ids:\n",
    "        feature_dict[\"Simple_Cluases\"][idx]=feature.replace(\" \",\"_\")\n",
    "        indices.append(idx)\n",
    "        counter+=1\n",
    "    \n",
    "    if idx in complex_sentences_ids:\n",
    "        feature_dict[\"Complex_Sentences\"][idx]=feature.replace(\" \",\"_\")\n",
    "        indices.append(idx)\n",
    "        counter+=1\n",
    "    if idx in lexicon_ids:\n",
    "        feature_dict[\"Lexicon\"][idx]=feature.replace(\" \",\"_\")\n",
    "        indices.append(idx)\n",
    "        counter+=1\n",
    "    if idx in sign_languages_ids:\n",
    "        feature_dict[\"Sign_Languages\"][idx]=feature.replace(\" \",\"_\")\n",
    "        indices.append(idx)\n",
    "        counter+=1\n",
    "    \n",
    "    if idx in other_ids:\n",
    "        feature_dict[\"Other\"][idx]=feature.replace(\" \",\"_\")\n",
    "        indices.append(idx)\n",
    "        counter+=1\n",
    "        \n",
    "        "
   ]
  },
  {
   "cell_type": "code",
   "execution_count": 47,
   "id": "09ea3bf1-c1a7-457f-96d0-cacecba1e151",
   "metadata": {},
   "outputs": [],
   "source": [
    "feature_ids = list(id2feature.keys())\n",
    "difference = set(feature_ids).difference(set(indices))"
   ]
  },
  {
   "cell_type": "code",
   "execution_count": 48,
   "id": "8c34ed77-dadf-4373-9aea-0d71d0739bbf",
   "metadata": {},
   "outputs": [
    {
     "data": {
      "text/plain": [
       "set()"
      ]
     },
     "execution_count": 48,
     "metadata": {},
     "output_type": "execute_result"
    }
   ],
   "source": [
    "difference"
   ]
  },
  {
   "cell_type": "code",
   "execution_count": 65,
   "id": "40c727b5-d1ec-40d2-a832-f8f2244829e3",
   "metadata": {},
   "outputs": [],
   "source": [
    "import yaml\n",
    "try:\n",
    "    from yaml import CLoader as Loader, CDumper as Dumper\n",
    "except ImportError:\n",
    "    from yaml import Loader, Dumper\n",
    "    \n",
    "with open(\"../data/TypPred/preprocessed/wals_features.yaml\", \"w\")as f:\n",
    "    yaml.dump(feature_dict, f, default_flow_style=False)"
   ]
  },
  {
   "cell_type": "code",
   "execution_count": 66,
   "id": "aaddfce4-d9ee-4927-9bdd-14876f71b33d",
   "metadata": {},
   "outputs": [
    {
     "data": {
      "text/plain": [
       "11"
      ]
     },
     "execution_count": 66,
     "metadata": {},
     "output_type": "execute_result"
    }
   ],
   "source": [
    "len(feature_dict.keys())"
   ]
  },
  {
   "cell_type": "code",
   "execution_count": null,
   "id": "1a3217cc-86b5-45a1-925b-48e56be4cc81",
   "metadata": {},
   "outputs": [],
   "source": []
  }
 ],
 "metadata": {
  "kernelspec": {
   "display_name": "Python (colexgraph)",
   "language": "python",
   "name": "colexgraph"
  },
  "language_info": {
   "codemirror_mode": {
    "name": "ipython",
    "version": 3
   },
   "file_extension": ".py",
   "mimetype": "text/x-python",
   "name": "python",
   "nbconvert_exporter": "python",
   "pygments_lexer": "ipython3",
   "version": "3.9.15"
  }
 },
 "nbformat": 4,
 "nbformat_minor": 5
}
