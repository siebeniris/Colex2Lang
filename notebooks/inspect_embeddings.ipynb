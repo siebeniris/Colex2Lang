{
 "cells": [
  {
   "cell_type": "code",
   "execution_count": 117,
   "id": "009e9249-db85-4ec3-80b3-8beb777603fa",
   "metadata": {},
   "outputs": [],
   "source": [
    "import pandas as pd\n",
    "\n",
    "import os\n",
    "from functools import reduce\n",
    "from itertools import combinations\n",
    "import json\n",
    "from collections import defaultdict\n",
    "\n",
    "import pandas as pd\n",
    "import seaborn as sns\n",
    "import numpy as np\n",
    "import matplotlib.pyplot as plt\n",
    "%matplotlib inline\n",
    "\n",
    "from gensim.models import KeyedVectors\n",
    "from sklearn.metrics.pairwise import cosine_similarity\n",
    "import yaml\n",
    "\n",
    "try:\n",
    "    from yaml import CLoader as Loader, CDumper as Dumper\n",
    "except ImportError:\n",
    "    from yaml import Loader, Dumper\n",
    "from scipy.spatial import distance\n",
    "from scipy.stats.stats import pearsonr   \n"
   ]
  },
  {
   "cell_type": "code",
   "execution_count": 323,
   "id": "f5504ecf-1567-43f5-ab1d-75d0fb9dfc0d",
   "metadata": {},
   "outputs": [],
   "source": [
    "# Norwegian, Swedish, Danish, Icelandic, Faroese, Finnish, Estonian, Latvian, Lithuanian, Greenlandic\n",
    "lang_clics_list = [ \"nob\", \"swe\", \"dan\", \"isl\", \"fin\", \"lav\", \"lit\", \"kal\"]\n",
    "\n",
    "lang_wn_list = [ \"swe\", \"dan\", \"isl\", \"fin\", \"est\", \"lav\", \"lit\", \"kal\" ]"
   ]
  },
  {
   "cell_type": "code",
   "execution_count": 325,
   "id": "1e09761b-8abf-4004-8940-cc000bac0bdd",
   "metadata": {},
   "outputs": [
    {
     "data": {
      "text/plain": [
       "8"
      ]
     },
     "execution_count": 325,
     "metadata": {},
     "output_type": "execute_result"
    }
   ],
   "source": [
    "len(lang_clics_list)"
   ]
  },
  {
   "cell_type": "code",
   "execution_count": 326,
   "id": "c9129804-bed2-4f64-9f06-9584b7637a61",
   "metadata": {},
   "outputs": [],
   "source": [
    "language_dict={\"nob\":\"Norwegian\", \"swe\":\"Swedish\",\"dan\": \"Danish\",\"isl\": \"Icelandic\", \"fin\":\"Finnish\", \"est\":\"Estonian\", \"lav\":\"Latvian\", \n",
    "               \"lit\":\"Lithuanian\", \"kal\":\"Greenlandic\"}"
   ]
  },
  {
   "cell_type": "code",
   "execution_count": 346,
   "id": "5173c6f5-bdfa-40e9-8393-36db12a713e8",
   "metadata": {},
   "outputs": [
    {
     "data": {
      "text/plain": [
       "array([[-1., -1., -1.,  1., -1., -1., -1., -1.,  2.,  1.,  0.,  1., -1.]])"
      ]
     },
     "execution_count": 346,
     "metadata": {},
     "output_type": "execute_result"
    }
   ],
   "source": [
    "wn_vectors[\"kal\"]"
   ]
  },
  {
   "cell_type": "code",
   "execution_count": 347,
   "id": "f6f5226d-110a-488e-b20b-b8e32d49bc7f",
   "metadata": {},
   "outputs": [
    {
     "data": {
      "text/plain": [
       "array([[ 0.,  0., -1.,  0., -1., -1., -1., -1.,  1.,  1.,  0.,  0.,  1.]])"
      ]
     },
     "execution_count": 347,
     "metadata": {},
     "output_type": "execute_result"
    }
   ],
   "source": [
    "wn_vectors[\"fin\"]"
   ]
  },
  {
   "cell_type": "code",
   "execution_count": 348,
   "id": "590fdfb1-8d70-4f89-af3d-861e44286770",
   "metadata": {},
   "outputs": [
    {
     "data": {
      "text/plain": [
       "array([[ 1.,  0., -1., -1., -1., -1., -1., -1., -1., -1., -1., -1.,  2.]])"
      ]
     },
     "execution_count": 348,
     "metadata": {},
     "output_type": "execute_result"
    }
   ],
   "source": [
    "wn_vectors[\"lit\"]"
   ]
  },
  {
   "cell_type": "code",
   "execution_count": 349,
   "id": "93a026fa-32c3-4e25-b45c-04943422b418",
   "metadata": {},
   "outputs": [
    {
     "data": {
      "text/plain": [
       "array([[-1., -1., -1.,  0., -1., -1., -1., -1., -1., -1., -1., -1.,  1.]])"
      ]
     },
     "execution_count": 349,
     "metadata": {},
     "output_type": "execute_result"
    }
   ],
   "source": [
    "wn_vectors[\"lav\"]"
   ]
  },
  {
   "cell_type": "code",
   "execution_count": 350,
   "id": "c37a2c06-c638-49ea-a78f-feaf5211e335",
   "metadata": {},
   "outputs": [
    {
     "data": {
      "text/plain": [
       "array([[-1., -1., -1., -1., -1., -1., -1., -1., -1., -1., -1., -1.,  1.]])"
      ]
     },
     "execution_count": 350,
     "metadata": {},
     "output_type": "execute_result"
    }
   ],
   "source": [
    "wn_vectors[\"isl\"]"
   ]
  },
  {
   "cell_type": "code",
   "execution_count": 351,
   "id": "63952f37-e343-47cb-af63-17c52c46b1c4",
   "metadata": {},
   "outputs": [
    {
     "data": {
      "text/plain": [
       "array([[-1., -1., -1., -1., -1., -1., -1., -1., -1., -1., -1., -1.,  1.]])"
      ]
     },
     "execution_count": 351,
     "metadata": {},
     "output_type": "execute_result"
    }
   ],
   "source": [
    "wn_vectors[\"est\"]"
   ]
  },
  {
   "cell_type": "code",
   "execution_count": 352,
   "id": "968d6e2a-3622-4a60-825d-69c072674591",
   "metadata": {},
   "outputs": [
    {
     "data": {
      "text/plain": [
       "array([[ 0.,  0., -1.,  1., -1., -1., -1., -1., -1., -1., -1., -1.,  1.]])"
      ]
     },
     "execution_count": 352,
     "metadata": {},
     "output_type": "execute_result"
    }
   ],
   "source": [
    "wn_vectors[\"dan\"]"
   ]
  },
  {
   "cell_type": "code",
   "execution_count": 353,
   "id": "a60afa6f-1d1e-4c8f-9b88-d9a0bcc8c9de",
   "metadata": {},
   "outputs": [
    {
     "data": {
      "text/plain": [
       "array([[ 0.,  0., -1.,  0.,  6.,  4.,  1.,  0.,  1.,  1.,  0.,  0.,  1.]])"
      ]
     },
     "execution_count": 353,
     "metadata": {},
     "output_type": "execute_result"
    }
   ],
   "source": [
    "wn_vectors[\"deu\"]"
   ]
  },
  {
   "cell_type": "code",
   "execution_count": 354,
   "id": "092adb09-cd1e-45e6-b81c-78417a670ba2",
   "metadata": {},
   "outputs": [
    {
     "data": {
      "text/plain": [
       "array([[ 0.,  0., -1.,  0.,  6.,  4.,  1.,  0.,  0.,  1.,  0.,  0.,  1.]])"
      ]
     },
     "execution_count": 354,
     "metadata": {},
     "output_type": "execute_result"
    }
   ],
   "source": [
    "wn_vectors[\"eng\"]"
   ]
  },
  {
   "cell_type": "code",
   "execution_count": 356,
   "id": "efb76c8e-b25c-4087-8a66-58bb466b5765",
   "metadata": {},
   "outputs": [
    {
     "data": {
      "text/plain": [
       "array([[-1., -1., -1., -1., -1., -1., -1., -1., -1., -1., -1., -1.,  1.]])"
      ]
     },
     "execution_count": 356,
     "metadata": {},
     "output_type": "execute_result"
    }
   ],
   "source": [
    "wn_vectors[\"swe\"]"
   ]
  },
  {
   "cell_type": "code",
   "execution_count": null,
   "id": "957c5c25-491b-4453-89ae-8656b8a03bf0",
   "metadata": {},
   "outputs": [],
   "source": []
  },
  {
   "cell_type": "code",
   "execution_count": 327,
   "id": "de38d4d3-8d22-4c62-9f94-7890ff477218",
   "metadata": {},
   "outputs": [
    {
     "name": "stderr",
     "output_type": "stream",
     "text": [
      "/var/folders/n4/_229c3094s1blstjbm14zsdw0000gn/T/ipykernel_99938/3816426006.py:1: UserWarning: Boolean Series key will be reindexed to match DataFrame index.\n",
      "  df_distance_clics_langs = df_distance_clics[df_distance_clics[\"ISO1\"].isin(lang_clics_list)][df_distance_clics[\"ISO2\"].isin(lang_clics_list)]\n",
      "/var/folders/n4/_229c3094s1blstjbm14zsdw0000gn/T/ipykernel_99938/3816426006.py:2: UserWarning: Boolean Series key will be reindexed to match DataFrame index.\n",
      "  df_distance_wn_langs = df_distance_wn[df_distance_wn[\"ISO1\"].isin(lang_wn_list)][df_distance_wn[\"ISO2\"].isin(lang_wn_list)]\n"
     ]
    }
   ],
   "source": [
    "df_distance_clics_langs = df_distance_clics[df_distance_clics[\"ISO1\"].isin(lang_clics_list)][df_distance_clics[\"ISO2\"].isin(lang_clics_list)]\n",
    "df_distance_wn_langs = df_distance_wn[df_distance_wn[\"ISO1\"].isin(lang_wn_list)][df_distance_wn[\"ISO2\"].isin(lang_wn_list)]"
   ]
  },
  {
   "cell_type": "code",
   "execution_count": 328,
   "id": "0d9e3515-3331-4389-ad83-19200b57ff0c",
   "metadata": {},
   "outputs": [
    {
     "data": {
      "text/plain": [
       "28"
      ]
     },
     "execution_count": 328,
     "metadata": {},
     "output_type": "execute_result"
    }
   ],
   "source": [
    "len(df_distance_wn_langs)"
   ]
  },
  {
   "cell_type": "code",
   "execution_count": 329,
   "id": "31132b47-8f21-4996-934b-665f14f9e420",
   "metadata": {
    "scrolled": true,
    "tags": []
   },
   "outputs": [],
   "source": [
    "df_distance_wn_langs[\"Language Pair\"]= df_distance_wn_langs[\"ISO1\"]+\"-\"+df_distance_wn_langs[\"ISO2\"]"
   ]
  },
  {
   "cell_type": "code",
   "execution_count": 330,
   "id": "52cc1a9a-bfbe-477b-885f-e922e8a6f0d9",
   "metadata": {},
   "outputs": [],
   "source": [
    "df_distance_wn_langs.rename(columns={\"ISO1\":\"Language1\", \"ISO2\":\"Language2\", \"feature_distance\":\"WALS Feature\", \"lang_distance_wn\": \"WordNet\", \"lang_distance_wn_concept\":\"WordNet Concept\"}, inplace=True)"
   ]
  },
  {
   "cell_type": "code",
   "execution_count": 331,
   "id": "da3c203b-1fba-4299-8a45-21f334ab8e19",
   "metadata": {
    "scrolled": true,
    "tags": []
   },
   "outputs": [],
   "source": [
    "df_distance_wn_langs_ = df_distance_wn_langs[[\"Language Pair\", \"WALS Feature\", \"WordNet\", \"WordNet Concept\"]]"
   ]
  },
  {
   "cell_type": "code",
   "execution_count": 332,
   "id": "29ae8bc4-a8a2-429b-8fec-96a892674b20",
   "metadata": {},
   "outputs": [],
   "source": [
    "df_distance_wn_langs_.index = df_distance_wn_langs_[\"Language Pair\"]"
   ]
  },
  {
   "cell_type": "code",
   "execution_count": null,
   "id": "9efaa11c-5bfd-4bb2-8315-7dadb0eb5eb4",
   "metadata": {},
   "outputs": [],
   "source": []
  },
  {
   "cell_type": "code",
   "execution_count": 334,
   "id": "164d8669-5f88-41d3-8e49-6ca933596308",
   "metadata": {
    "scrolled": true,
    "tags": []
   },
   "outputs": [
    {
     "data": {
      "text/html": [
       "<div>\n",
       "<style scoped>\n",
       "    .dataframe tbody tr th:only-of-type {\n",
       "        vertical-align: middle;\n",
       "    }\n",
       "\n",
       "    .dataframe tbody tr th {\n",
       "        vertical-align: top;\n",
       "    }\n",
       "\n",
       "    .dataframe thead th {\n",
       "        text-align: right;\n",
       "    }\n",
       "</style>\n",
       "<table border=\"1\" class=\"dataframe\">\n",
       "  <thead>\n",
       "    <tr style=\"text-align: right;\">\n",
       "      <th></th>\n",
       "      <th>Language1</th>\n",
       "      <th>Language2</th>\n",
       "      <th>WALS Feature</th>\n",
       "      <th>WordNet</th>\n",
       "      <th>WordNet Concept</th>\n",
       "      <th>Language Pair</th>\n",
       "    </tr>\n",
       "  </thead>\n",
       "  <tbody>\n",
       "    <tr>\n",
       "      <th>1518</th>\n",
       "      <td>isl</td>\n",
       "      <td>kal</td>\n",
       "      <td>0.071611</td>\n",
       "      <td>0.157230</td>\n",
       "      <td>-0.060477</td>\n",
       "      <td>isl-kal</td>\n",
       "    </tr>\n",
       "    <tr>\n",
       "      <th>1534</th>\n",
       "      <td>est</td>\n",
       "      <td>kal</td>\n",
       "      <td>0.071611</td>\n",
       "      <td>0.192219</td>\n",
       "      <td>0.090950</td>\n",
       "      <td>est-kal</td>\n",
       "    </tr>\n",
       "    <tr>\n",
       "      <th>1629</th>\n",
       "      <td>fin</td>\n",
       "      <td>kal</td>\n",
       "      <td>0.639010</td>\n",
       "      <td>-0.062563</td>\n",
       "      <td>0.065486</td>\n",
       "      <td>fin-kal</td>\n",
       "    </tr>\n",
       "    <tr>\n",
       "      <th>1648</th>\n",
       "      <td>kal</td>\n",
       "      <td>lav</td>\n",
       "      <td>0.149071</td>\n",
       "      <td>0.222072</td>\n",
       "      <td>0.143123</td>\n",
       "      <td>kal-lav</td>\n",
       "    </tr>\n",
       "    <tr>\n",
       "      <th>1656</th>\n",
       "      <td>kal</td>\n",
       "      <td>lit</td>\n",
       "      <td>-0.200000</td>\n",
       "      <td>0.211941</td>\n",
       "      <td>0.066888</td>\n",
       "      <td>kal-lit</td>\n",
       "    </tr>\n",
       "    <tr>\n",
       "      <th>1657</th>\n",
       "      <td>kal</td>\n",
       "      <td>swe</td>\n",
       "      <td>0.071611</td>\n",
       "      <td>0.164336</td>\n",
       "      <td>0.156218</td>\n",
       "      <td>kal-swe</td>\n",
       "    </tr>\n",
       "    <tr>\n",
       "      <th>1666</th>\n",
       "      <td>dan</td>\n",
       "      <td>kal</td>\n",
       "      <td>0.077850</td>\n",
       "      <td>0.203156</td>\n",
       "      <td>0.143231</td>\n",
       "      <td>dan-kal</td>\n",
       "    </tr>\n",
       "    <tr>\n",
       "      <th>8184</th>\n",
       "      <td>est</td>\n",
       "      <td>isl</td>\n",
       "      <td>1.000000</td>\n",
       "      <td>0.678645</td>\n",
       "      <td>0.562373</td>\n",
       "      <td>est-isl</td>\n",
       "    </tr>\n",
       "    <tr>\n",
       "      <th>8279</th>\n",
       "      <td>fin</td>\n",
       "      <td>isl</td>\n",
       "      <td>0.392232</td>\n",
       "      <td>0.134833</td>\n",
       "      <td>0.152206</td>\n",
       "      <td>fin-isl</td>\n",
       "    </tr>\n",
       "    <tr>\n",
       "      <th>8298</th>\n",
       "      <td>isl</td>\n",
       "      <td>lav</td>\n",
       "      <td>0.960769</td>\n",
       "      <td>0.502366</td>\n",
       "      <td>0.495860</td>\n",
       "      <td>isl-lav</td>\n",
       "    </tr>\n",
       "    <tr>\n",
       "      <th>8306</th>\n",
       "      <td>isl</td>\n",
       "      <td>lit</td>\n",
       "      <td>0.787726</td>\n",
       "      <td>0.530529</td>\n",
       "      <td>0.541662</td>\n",
       "      <td>isl-lit</td>\n",
       "    </tr>\n",
       "    <tr>\n",
       "      <th>8307</th>\n",
       "      <td>isl</td>\n",
       "      <td>swe</td>\n",
       "      <td>1.000000</td>\n",
       "      <td>0.750407</td>\n",
       "      <td>0.649354</td>\n",
       "      <td>isl-swe</td>\n",
       "    </tr>\n",
       "    <tr>\n",
       "      <th>8316</th>\n",
       "      <td>dan</td>\n",
       "      <td>isl</td>\n",
       "      <td>0.752618</td>\n",
       "      <td>0.737766</td>\n",
       "      <td>0.717196</td>\n",
       "      <td>dan-isl</td>\n",
       "    </tr>\n",
       "    <tr>\n",
       "      <th>10911</th>\n",
       "      <td>est</td>\n",
       "      <td>fin</td>\n",
       "      <td>0.392232</td>\n",
       "      <td>0.279943</td>\n",
       "      <td>0.303978</td>\n",
       "      <td>est-fin</td>\n",
       "    </tr>\n",
       "    <tr>\n",
       "      <th>10930</th>\n",
       "      <td>est</td>\n",
       "      <td>lav</td>\n",
       "      <td>0.960769</td>\n",
       "      <td>0.798532</td>\n",
       "      <td>0.809713</td>\n",
       "      <td>est-lav</td>\n",
       "    </tr>\n",
       "    <tr>\n",
       "      <th>10938</th>\n",
       "      <td>est</td>\n",
       "      <td>lit</td>\n",
       "      <td>0.787726</td>\n",
       "      <td>0.639040</td>\n",
       "      <td>0.678185</td>\n",
       "      <td>est-lit</td>\n",
       "    </tr>\n",
       "    <tr>\n",
       "      <th>10939</th>\n",
       "      <td>est</td>\n",
       "      <td>swe</td>\n",
       "      <td>1.000000</td>\n",
       "      <td>0.689164</td>\n",
       "      <td>0.661104</td>\n",
       "      <td>est-swe</td>\n",
       "    </tr>\n",
       "    <tr>\n",
       "      <th>10948</th>\n",
       "      <td>dan</td>\n",
       "      <td>est</td>\n",
       "      <td>0.752618</td>\n",
       "      <td>0.663323</td>\n",
       "      <td>0.638592</td>\n",
       "      <td>dan-est</td>\n",
       "    </tr>\n",
       "    <tr>\n",
       "      <th>21285</th>\n",
       "      <td>fin</td>\n",
       "      <td>lav</td>\n",
       "      <td>0.408248</td>\n",
       "      <td>0.125221</td>\n",
       "      <td>0.185700</td>\n",
       "      <td>fin-lav</td>\n",
       "    </tr>\n",
       "    <tr>\n",
       "      <th>21293</th>\n",
       "      <td>fin</td>\n",
       "      <td>lit</td>\n",
       "      <td>0.456435</td>\n",
       "      <td>0.161737</td>\n",
       "      <td>0.150287</td>\n",
       "      <td>fin-lit</td>\n",
       "    </tr>\n",
       "    <tr>\n",
       "      <th>21294</th>\n",
       "      <td>fin</td>\n",
       "      <td>swe</td>\n",
       "      <td>0.392232</td>\n",
       "      <td>0.111098</td>\n",
       "      <td>0.252957</td>\n",
       "      <td>fin-swe</td>\n",
       "    </tr>\n",
       "    <tr>\n",
       "      <th>21303</th>\n",
       "      <td>dan</td>\n",
       "      <td>fin</td>\n",
       "      <td>0.426401</td>\n",
       "      <td>0.086982</td>\n",
       "      <td>0.175494</td>\n",
       "      <td>dan-fin</td>\n",
       "    </tr>\n",
       "    <tr>\n",
       "      <th>22281</th>\n",
       "      <td>lav</td>\n",
       "      <td>lit</td>\n",
       "      <td>0.745356</td>\n",
       "      <td>0.707088</td>\n",
       "      <td>0.647357</td>\n",
       "      <td>lav-lit</td>\n",
       "    </tr>\n",
       "    <tr>\n",
       "      <th>22282</th>\n",
       "      <td>lav</td>\n",
       "      <td>swe</td>\n",
       "      <td>0.960769</td>\n",
       "      <td>0.609915</td>\n",
       "      <td>0.559608</td>\n",
       "      <td>lav-swe</td>\n",
       "    </tr>\n",
       "    <tr>\n",
       "      <th>22291</th>\n",
       "      <td>dan</td>\n",
       "      <td>lav</td>\n",
       "      <td>0.870388</td>\n",
       "      <td>0.575195</td>\n",
       "      <td>0.570168</td>\n",
       "      <td>dan-lav</td>\n",
       "    </tr>\n",
       "    <tr>\n",
       "      <th>22590</th>\n",
       "      <td>lit</td>\n",
       "      <td>swe</td>\n",
       "      <td>0.787726</td>\n",
       "      <td>0.546449</td>\n",
       "      <td>0.583543</td>\n",
       "      <td>lit-swe</td>\n",
       "    </tr>\n",
       "    <tr>\n",
       "      <th>22599</th>\n",
       "      <td>dan</td>\n",
       "      <td>lit</td>\n",
       "      <td>0.778499</td>\n",
       "      <td>0.527790</td>\n",
       "      <td>0.494153</td>\n",
       "      <td>dan-lit</td>\n",
       "    </tr>\n",
       "    <tr>\n",
       "      <th>22633</th>\n",
       "      <td>dan</td>\n",
       "      <td>swe</td>\n",
       "      <td>0.752618</td>\n",
       "      <td>0.817743</td>\n",
       "      <td>0.773803</td>\n",
       "      <td>dan-swe</td>\n",
       "    </tr>\n",
       "  </tbody>\n",
       "</table>\n",
       "</div>"
      ],
      "text/plain": [
       "      Language1 Language2  WALS Feature   WordNet  WordNet Concept  \\\n",
       "1518        isl       kal      0.071611  0.157230        -0.060477   \n",
       "1534        est       kal      0.071611  0.192219         0.090950   \n",
       "1629        fin       kal      0.639010 -0.062563         0.065486   \n",
       "1648        kal       lav      0.149071  0.222072         0.143123   \n",
       "1656        kal       lit     -0.200000  0.211941         0.066888   \n",
       "1657        kal       swe      0.071611  0.164336         0.156218   \n",
       "1666        dan       kal      0.077850  0.203156         0.143231   \n",
       "8184        est       isl      1.000000  0.678645         0.562373   \n",
       "8279        fin       isl      0.392232  0.134833         0.152206   \n",
       "8298        isl       lav      0.960769  0.502366         0.495860   \n",
       "8306        isl       lit      0.787726  0.530529         0.541662   \n",
       "8307        isl       swe      1.000000  0.750407         0.649354   \n",
       "8316        dan       isl      0.752618  0.737766         0.717196   \n",
       "10911       est       fin      0.392232  0.279943         0.303978   \n",
       "10930       est       lav      0.960769  0.798532         0.809713   \n",
       "10938       est       lit      0.787726  0.639040         0.678185   \n",
       "10939       est       swe      1.000000  0.689164         0.661104   \n",
       "10948       dan       est      0.752618  0.663323         0.638592   \n",
       "21285       fin       lav      0.408248  0.125221         0.185700   \n",
       "21293       fin       lit      0.456435  0.161737         0.150287   \n",
       "21294       fin       swe      0.392232  0.111098         0.252957   \n",
       "21303       dan       fin      0.426401  0.086982         0.175494   \n",
       "22281       lav       lit      0.745356  0.707088         0.647357   \n",
       "22282       lav       swe      0.960769  0.609915         0.559608   \n",
       "22291       dan       lav      0.870388  0.575195         0.570168   \n",
       "22590       lit       swe      0.787726  0.546449         0.583543   \n",
       "22599       dan       lit      0.778499  0.527790         0.494153   \n",
       "22633       dan       swe      0.752618  0.817743         0.773803   \n",
       "\n",
       "      Language Pair  \n",
       "1518        isl-kal  \n",
       "1534        est-kal  \n",
       "1629        fin-kal  \n",
       "1648        kal-lav  \n",
       "1656        kal-lit  \n",
       "1657        kal-swe  \n",
       "1666        dan-kal  \n",
       "8184        est-isl  \n",
       "8279        fin-isl  \n",
       "8298        isl-lav  \n",
       "8306        isl-lit  \n",
       "8307        isl-swe  \n",
       "8316        dan-isl  \n",
       "10911       est-fin  \n",
       "10930       est-lav  \n",
       "10938       est-lit  \n",
       "10939       est-swe  \n",
       "10948       dan-est  \n",
       "21285       fin-lav  \n",
       "21293       fin-lit  \n",
       "21294       fin-swe  \n",
       "21303       dan-fin  \n",
       "22281       lav-lit  \n",
       "22282       lav-swe  \n",
       "22291       dan-lav  \n",
       "22590       lit-swe  \n",
       "22599       dan-lit  \n",
       "22633       dan-swe  "
      ]
     },
     "execution_count": 334,
     "metadata": {},
     "output_type": "execute_result"
    }
   ],
   "source": [
    "df_distance_wn_langs"
   ]
  },
  {
   "cell_type": "code",
   "execution_count": 335,
   "id": "6201ccd5-0dbe-45f5-95ec-be48df3ab1af",
   "metadata": {
    "scrolled": true,
    "tags": []
   },
   "outputs": [
    {
     "data": {
      "text/plain": [
       "([0,\n",
       "  1,\n",
       "  2,\n",
       "  3,\n",
       "  4,\n",
       "  5,\n",
       "  6,\n",
       "  7,\n",
       "  8,\n",
       "  9,\n",
       "  10,\n",
       "  11,\n",
       "  12,\n",
       "  13,\n",
       "  14,\n",
       "  15,\n",
       "  16,\n",
       "  17,\n",
       "  18,\n",
       "  19,\n",
       "  20,\n",
       "  21,\n",
       "  22,\n",
       "  23,\n",
       "  24,\n",
       "  25,\n",
       "  26,\n",
       "  27],\n",
       " [Text(0, 0, 'isl-kal'),\n",
       "  Text(1, 0, 'est-kal'),\n",
       "  Text(2, 0, 'fin-kal'),\n",
       "  Text(3, 0, 'kal-lav'),\n",
       "  Text(4, 0, 'kal-lit'),\n",
       "  Text(5, 0, 'kal-swe'),\n",
       "  Text(6, 0, 'dan-kal'),\n",
       "  Text(7, 0, 'est-isl'),\n",
       "  Text(8, 0, 'fin-isl'),\n",
       "  Text(9, 0, 'isl-lav'),\n",
       "  Text(10, 0, 'isl-lit'),\n",
       "  Text(11, 0, 'isl-swe'),\n",
       "  Text(12, 0, 'dan-isl'),\n",
       "  Text(13, 0, 'est-fin'),\n",
       "  Text(14, 0, 'est-lav'),\n",
       "  Text(15, 0, 'est-lit'),\n",
       "  Text(16, 0, 'est-swe'),\n",
       "  Text(17, 0, 'dan-est'),\n",
       "  Text(18, 0, 'fin-lav'),\n",
       "  Text(19, 0, 'fin-lit'),\n",
       "  Text(20, 0, 'fin-swe'),\n",
       "  Text(21, 0, 'dan-fin'),\n",
       "  Text(22, 0, 'lav-lit'),\n",
       "  Text(23, 0, 'lav-swe'),\n",
       "  Text(24, 0, 'dan-lav'),\n",
       "  Text(25, 0, 'lit-swe'),\n",
       "  Text(26, 0, 'dan-lit'),\n",
       "  Text(27, 0, 'dan-swe')])"
      ]
     },
     "execution_count": 335,
     "metadata": {},
     "output_type": "execute_result"
    },
    {
     "data": {
      "image/png": "[encoded data removed]",
      "text/plain": [
       "<Figure size 800x700 with 1 Axes>"
      ]
     },
     "metadata": {},
     "output_type": "display_data"
    }
   ],
   "source": [
    "plt.figure(figsize=(8,7))\n",
    "sns.set_theme(style=\"whitegrid\", font_scale=0.7)\n",
    "sns.lineplot(data=df_distance_wn_langs_) \n",
    "plt.xticks(rotation=90)"
   ]
  },
  {
   "cell_type": "code",
   "execution_count": 337,
   "id": "ae23738d-e057-4c04-926a-7c166da54dcd",
   "metadata": {
    "scrolled": true,
    "tags": []
   },
   "outputs": [
    {
     "data": {
      "text/html": [
       "<div>\n",
       "<style scoped>\n",
       "    .dataframe tbody tr th:only-of-type {\n",
       "        vertical-align: middle;\n",
       "    }\n",
       "\n",
       "    .dataframe tbody tr th {\n",
       "        vertical-align: top;\n",
       "    }\n",
       "\n",
       "    .dataframe thead th {\n",
       "        text-align: right;\n",
       "    }\n",
       "</style>\n",
       "<table border=\"1\" class=\"dataframe\">\n",
       "  <thead>\n",
       "    <tr style=\"text-align: right;\">\n",
       "      <th></th>\n",
       "      <th>Language1</th>\n",
       "      <th>Language2</th>\n",
       "      <th>WALS Feature</th>\n",
       "      <th>WordNet</th>\n",
       "      <th>WordNet Concept</th>\n",
       "      <th>Language Pair</th>\n",
       "    </tr>\n",
       "  </thead>\n",
       "  <tbody>\n",
       "    <tr>\n",
       "      <th>1518</th>\n",
       "      <td>isl</td>\n",
       "      <td>kal</td>\n",
       "      <td>0.071611</td>\n",
       "      <td>0.157230</td>\n",
       "      <td>-0.060477</td>\n",
       "      <td>isl-kal</td>\n",
       "    </tr>\n",
       "    <tr>\n",
       "      <th>1534</th>\n",
       "      <td>est</td>\n",
       "      <td>kal</td>\n",
       "      <td>0.071611</td>\n",
       "      <td>0.192219</td>\n",
       "      <td>0.090950</td>\n",
       "      <td>est-kal</td>\n",
       "    </tr>\n",
       "    <tr>\n",
       "      <th>1629</th>\n",
       "      <td>fin</td>\n",
       "      <td>kal</td>\n",
       "      <td>0.639010</td>\n",
       "      <td>-0.062563</td>\n",
       "      <td>0.065486</td>\n",
       "      <td>fin-kal</td>\n",
       "    </tr>\n",
       "    <tr>\n",
       "      <th>1648</th>\n",
       "      <td>kal</td>\n",
       "      <td>lav</td>\n",
       "      <td>0.149071</td>\n",
       "      <td>0.222072</td>\n",
       "      <td>0.143123</td>\n",
       "      <td>kal-lav</td>\n",
       "    </tr>\n",
       "    <tr>\n",
       "      <th>1656</th>\n",
       "      <td>kal</td>\n",
       "      <td>lit</td>\n",
       "      <td>-0.200000</td>\n",
       "      <td>0.211941</td>\n",
       "      <td>0.066888</td>\n",
       "      <td>kal-lit</td>\n",
       "    </tr>\n",
       "    <tr>\n",
       "      <th>1657</th>\n",
       "      <td>kal</td>\n",
       "      <td>swe</td>\n",
       "      <td>0.071611</td>\n",
       "      <td>0.164336</td>\n",
       "      <td>0.156218</td>\n",
       "      <td>kal-swe</td>\n",
       "    </tr>\n",
       "    <tr>\n",
       "      <th>1666</th>\n",
       "      <td>dan</td>\n",
       "      <td>kal</td>\n",
       "      <td>0.077850</td>\n",
       "      <td>0.203156</td>\n",
       "      <td>0.143231</td>\n",
       "      <td>dan-kal</td>\n",
       "    </tr>\n",
       "    <tr>\n",
       "      <th>8184</th>\n",
       "      <td>est</td>\n",
       "      <td>isl</td>\n",
       "      <td>1.000000</td>\n",
       "      <td>0.678645</td>\n",
       "      <td>0.562373</td>\n",
       "      <td>est-isl</td>\n",
       "    </tr>\n",
       "    <tr>\n",
       "      <th>8279</th>\n",
       "      <td>fin</td>\n",
       "      <td>isl</td>\n",
       "      <td>0.392232</td>\n",
       "      <td>0.134833</td>\n",
       "      <td>0.152206</td>\n",
       "      <td>fin-isl</td>\n",
       "    </tr>\n",
       "    <tr>\n",
       "      <th>8298</th>\n",
       "      <td>isl</td>\n",
       "      <td>lav</td>\n",
       "      <td>0.960769</td>\n",
       "      <td>0.502366</td>\n",
       "      <td>0.495860</td>\n",
       "      <td>isl-lav</td>\n",
       "    </tr>\n",
       "    <tr>\n",
       "      <th>8306</th>\n",
       "      <td>isl</td>\n",
       "      <td>lit</td>\n",
       "      <td>0.787726</td>\n",
       "      <td>0.530529</td>\n",
       "      <td>0.541662</td>\n",
       "      <td>isl-lit</td>\n",
       "    </tr>\n",
       "    <tr>\n",
       "      <th>8307</th>\n",
       "      <td>isl</td>\n",
       "      <td>swe</td>\n",
       "      <td>1.000000</td>\n",
       "      <td>0.750407</td>\n",
       "      <td>0.649354</td>\n",
       "      <td>isl-swe</td>\n",
       "    </tr>\n",
       "    <tr>\n",
       "      <th>8316</th>\n",
       "      <td>dan</td>\n",
       "      <td>isl</td>\n",
       "      <td>0.752618</td>\n",
       "      <td>0.737766</td>\n",
       "      <td>0.717196</td>\n",
       "      <td>dan-isl</td>\n",
       "    </tr>\n",
       "    <tr>\n",
       "      <th>10911</th>\n",
       "      <td>est</td>\n",
       "      <td>fin</td>\n",
       "      <td>0.392232</td>\n",
       "      <td>0.279943</td>\n",
       "      <td>0.303978</td>\n",
       "      <td>est-fin</td>\n",
       "    </tr>\n",
       "    <tr>\n",
       "      <th>10930</th>\n",
       "      <td>est</td>\n",
       "      <td>lav</td>\n",
       "      <td>0.960769</td>\n",
       "      <td>0.798532</td>\n",
       "      <td>0.809713</td>\n",
       "      <td>est-lav</td>\n",
       "    </tr>\n",
       "    <tr>\n",
       "      <th>10938</th>\n",
       "      <td>est</td>\n",
       "      <td>lit</td>\n",
       "      <td>0.787726</td>\n",
       "      <td>0.639040</td>\n",
       "      <td>0.678185</td>\n",
       "      <td>est-lit</td>\n",
       "    </tr>\n",
       "    <tr>\n",
       "      <th>10939</th>\n",
       "      <td>est</td>\n",
       "      <td>swe</td>\n",
       "      <td>1.000000</td>\n",
       "      <td>0.689164</td>\n",
       "      <td>0.661104</td>\n",
       "      <td>est-swe</td>\n",
       "    </tr>\n",
       "    <tr>\n",
       "      <th>10948</th>\n",
       "      <td>dan</td>\n",
       "      <td>est</td>\n",
       "      <td>0.752618</td>\n",
       "      <td>0.663323</td>\n",
       "      <td>0.638592</td>\n",
       "      <td>dan-est</td>\n",
       "    </tr>\n",
       "    <tr>\n",
       "      <th>21285</th>\n",
       "      <td>fin</td>\n",
       "      <td>lav</td>\n",
       "      <td>0.408248</td>\n",
       "      <td>0.125221</td>\n",
       "      <td>0.185700</td>\n",
       "      <td>fin-lav</td>\n",
       "    </tr>\n",
       "    <tr>\n",
       "      <th>21293</th>\n",
       "      <td>fin</td>\n",
       "      <td>lit</td>\n",
       "      <td>0.456435</td>\n",
       "      <td>0.161737</td>\n",
       "      <td>0.150287</td>\n",
       "      <td>fin-lit</td>\n",
       "    </tr>\n",
       "    <tr>\n",
       "      <th>21294</th>\n",
       "      <td>fin</td>\n",
       "      <td>swe</td>\n",
       "      <td>0.392232</td>\n",
       "      <td>0.111098</td>\n",
       "      <td>0.252957</td>\n",
       "      <td>fin-swe</td>\n",
       "    </tr>\n",
       "    <tr>\n",
       "      <th>21303</th>\n",
       "      <td>dan</td>\n",
       "      <td>fin</td>\n",
       "      <td>0.426401</td>\n",
       "      <td>0.086982</td>\n",
       "      <td>0.175494</td>\n",
       "      <td>dan-fin</td>\n",
       "    </tr>\n",
       "    <tr>\n",
       "      <th>22281</th>\n",
       "      <td>lav</td>\n",
       "      <td>lit</td>\n",
       "      <td>0.745356</td>\n",
       "      <td>0.707088</td>\n",
       "      <td>0.647357</td>\n",
       "      <td>lav-lit</td>\n",
       "    </tr>\n",
       "    <tr>\n",
       "      <th>22282</th>\n",
       "      <td>lav</td>\n",
       "      <td>swe</td>\n",
       "      <td>0.960769</td>\n",
       "      <td>0.609915</td>\n",
       "      <td>0.559608</td>\n",
       "      <td>lav-swe</td>\n",
       "    </tr>\n",
       "    <tr>\n",
       "      <th>22291</th>\n",
       "      <td>dan</td>\n",
       "      <td>lav</td>\n",
       "      <td>0.870388</td>\n",
       "      <td>0.575195</td>\n",
       "      <td>0.570168</td>\n",
       "      <td>dan-lav</td>\n",
       "    </tr>\n",
       "    <tr>\n",
       "      <th>22590</th>\n",
       "      <td>lit</td>\n",
       "      <td>swe</td>\n",
       "      <td>0.787726</td>\n",
       "      <td>0.546449</td>\n",
       "      <td>0.583543</td>\n",
       "      <td>lit-swe</td>\n",
       "    </tr>\n",
       "    <tr>\n",
       "      <th>22599</th>\n",
       "      <td>dan</td>\n",
       "      <td>lit</td>\n",
       "      <td>0.778499</td>\n",
       "      <td>0.527790</td>\n",
       "      <td>0.494153</td>\n",
       "      <td>dan-lit</td>\n",
       "    </tr>\n",
       "    <tr>\n",
       "      <th>22633</th>\n",
       "      <td>dan</td>\n",
       "      <td>swe</td>\n",
       "      <td>0.752618</td>\n",
       "      <td>0.817743</td>\n",
       "      <td>0.773803</td>\n",
       "      <td>dan-swe</td>\n",
       "    </tr>\n",
       "  </tbody>\n",
       "</table>\n",
       "</div>"
      ],
      "text/plain": [
       "      Language1 Language2  WALS Feature   WordNet  WordNet Concept  \\\n",
       "1518        isl       kal      0.071611  0.157230        -0.060477   \n",
       "1534        est       kal      0.071611  0.192219         0.090950   \n",
       "1629        fin       kal      0.639010 -0.062563         0.065486   \n",
       "1648        kal       lav      0.149071  0.222072         0.143123   \n",
       "1656        kal       lit     -0.200000  0.211941         0.066888   \n",
       "1657        kal       swe      0.071611  0.164336         0.156218   \n",
       "1666        dan       kal      0.077850  0.203156         0.143231   \n",
       "8184        est       isl      1.000000  0.678645         0.562373   \n",
       "8279        fin       isl      0.392232  0.134833         0.152206   \n",
       "8298        isl       lav      0.960769  0.502366         0.495860   \n",
       "8306        isl       lit      0.787726  0.530529         0.541662   \n",
       "8307        isl       swe      1.000000  0.750407         0.649354   \n",
       "8316        dan       isl      0.752618  0.737766         0.717196   \n",
       "10911       est       fin      0.392232  0.279943         0.303978   \n",
       "10930       est       lav      0.960769  0.798532         0.809713   \n",
       "10938       est       lit      0.787726  0.639040         0.678185   \n",
       "10939       est       swe      1.000000  0.689164         0.661104   \n",
       "10948       dan       est      0.752618  0.663323         0.638592   \n",
       "21285       fin       lav      0.408248  0.125221         0.185700   \n",
       "21293       fin       lit      0.456435  0.161737         0.150287   \n",
       "21294       fin       swe      0.392232  0.111098         0.252957   \n",
       "21303       dan       fin      0.426401  0.086982         0.175494   \n",
       "22281       lav       lit      0.745356  0.707088         0.647357   \n",
       "22282       lav       swe      0.960769  0.609915         0.559608   \n",
       "22291       dan       lav      0.870388  0.575195         0.570168   \n",
       "22590       lit       swe      0.787726  0.546449         0.583543   \n",
       "22599       dan       lit      0.778499  0.527790         0.494153   \n",
       "22633       dan       swe      0.752618  0.817743         0.773803   \n",
       "\n",
       "      Language Pair  \n",
       "1518        isl-kal  \n",
       "1534        est-kal  \n",
       "1629        fin-kal  \n",
       "1648        kal-lav  \n",
       "1656        kal-lit  \n",
       "1657        kal-swe  \n",
       "1666        dan-kal  \n",
       "8184        est-isl  \n",
       "8279        fin-isl  \n",
       "8298        isl-lav  \n",
       "8306        isl-lit  \n",
       "8307        isl-swe  \n",
       "8316        dan-isl  \n",
       "10911       est-fin  \n",
       "10930       est-lav  \n",
       "10938       est-lit  \n",
       "10939       est-swe  \n",
       "10948       dan-est  \n",
       "21285       fin-lav  \n",
       "21293       fin-lit  \n",
       "21294       fin-swe  \n",
       "21303       dan-fin  \n",
       "22281       lav-lit  \n",
       "22282       lav-swe  \n",
       "22291       dan-lav  \n",
       "22590       lit-swe  \n",
       "22599       dan-lit  \n",
       "22633       dan-swe  "
      ]
     },
     "execution_count": 337,
     "metadata": {},
     "output_type": "execute_result"
    }
   ],
   "source": [
    "df_distance_wn_langs"
   ]
  },
  {
   "cell_type": "code",
   "execution_count": 338,
   "id": "72e3d69d-401c-4d02-87ae-f0d1ade68a0d",
   "metadata": {},
   "outputs": [
    {
     "data": {
      "text/plain": [
       "0.7679529144136179"
      ]
     },
     "execution_count": 338,
     "metadata": {},
     "output_type": "execute_result"
    }
   ],
   "source": [
    "wn_corr= df_distance_wn_langs[\"WALS Feature\"].corr(df_distance_wn_langs[\"WordNet\"])\n",
    "wn_corr"
   ]
  },
  {
   "cell_type": "code",
   "execution_count": 339,
   "id": "1b85d0b0-674b-457d-a50f-ba28579394aa",
   "metadata": {},
   "outputs": [
    {
     "data": {
      "text/plain": [
       "0.851510432162816"
      ]
     },
     "execution_count": 339,
     "metadata": {},
     "output_type": "execute_result"
    }
   ],
   "source": [
    "df_distance_wn_langs[\"WALS Feature\"].corr(df_distance_wn_langs[\"WordNet Concept\"])"
   ]
  },
  {
   "cell_type": "code",
   "execution_count": 237,
   "id": "57beba0e-0436-4e89-b592-41bd3fbc4f34",
   "metadata": {},
   "outputs": [
    {
     "name": "stderr",
     "output_type": "stream",
     "text": [
      "/var/folders/n4/_229c3094s1blstjbm14zsdw0000gn/T/ipykernel_99938/460351142.py:1: FutureWarning: In a future version of pandas all arguments of DataFrame.pivot will be keyword-only.\n",
      "  df_distance_wn_langs_feature = df_distance_wn_langs[[\"Language1\",\"Language2\", \"WALS Feature\"]].pivot(\"Language1\",\"Language2\", \"WALS Feature\").T\n"
     ]
    }
   ],
   "source": [
    "df_distance_wn_langs_feature = df_distance_wn_langs[[\"Language1\",\"Language2\", \"WALS Feature\"]].pivot(\"Language1\",\"Language2\", \"WALS Feature\").T"
   ]
  },
  {
   "cell_type": "code",
   "execution_count": 238,
   "id": "6fe9b317-e7c5-4fa9-8d8c-27454d85b483",
   "metadata": {},
   "outputs": [
    {
     "data": {
      "text/html": [
       "<div>\n",
       "<style scoped>\n",
       "    .dataframe tbody tr th:only-of-type {\n",
       "        vertical-align: middle;\n",
       "    }\n",
       "\n",
       "    .dataframe tbody tr th {\n",
       "        vertical-align: top;\n",
       "    }\n",
       "\n",
       "    .dataframe thead th {\n",
       "        text-align: right;\n",
       "    }\n",
       "</style>\n",
       "<table border=\"1\" class=\"dataframe\">\n",
       "  <thead>\n",
       "    <tr style=\"text-align: right;\">\n",
       "      <th>Language1</th>\n",
       "      <th>Danish</th>\n",
       "      <th>Estonian</th>\n",
       "      <th>Finnish</th>\n",
       "      <th>Greenlandic</th>\n",
       "      <th>Icelandic</th>\n",
       "      <th>Latvian</th>\n",
       "      <th>Lithuanian</th>\n",
       "    </tr>\n",
       "    <tr>\n",
       "      <th>Language2</th>\n",
       "      <th></th>\n",
       "      <th></th>\n",
       "      <th></th>\n",
       "      <th></th>\n",
       "      <th></th>\n",
       "      <th></th>\n",
       "      <th></th>\n",
       "    </tr>\n",
       "  </thead>\n",
       "  <tbody>\n",
       "    <tr>\n",
       "      <th>Estonian</th>\n",
       "      <td>0.752618</td>\n",
       "      <td>NaN</td>\n",
       "      <td>NaN</td>\n",
       "      <td>NaN</td>\n",
       "      <td>NaN</td>\n",
       "      <td>NaN</td>\n",
       "      <td>NaN</td>\n",
       "    </tr>\n",
       "    <tr>\n",
       "      <th>Finnish</th>\n",
       "      <td>0.426401</td>\n",
       "      <td>0.392232</td>\n",
       "      <td>NaN</td>\n",
       "      <td>NaN</td>\n",
       "      <td>NaN</td>\n",
       "      <td>NaN</td>\n",
       "      <td>NaN</td>\n",
       "    </tr>\n",
       "    <tr>\n",
       "      <th>Greenlandic</th>\n",
       "      <td>0.077850</td>\n",
       "      <td>0.071611</td>\n",
       "      <td>0.639010</td>\n",
       "      <td>NaN</td>\n",
       "      <td>0.071611</td>\n",
       "      <td>NaN</td>\n",
       "      <td>NaN</td>\n",
       "    </tr>\n",
       "    <tr>\n",
       "      <th>Icelandic</th>\n",
       "      <td>0.752618</td>\n",
       "      <td>1.000000</td>\n",
       "      <td>0.392232</td>\n",
       "      <td>NaN</td>\n",
       "      <td>NaN</td>\n",
       "      <td>NaN</td>\n",
       "      <td>NaN</td>\n",
       "    </tr>\n",
       "    <tr>\n",
       "      <th>Latvian</th>\n",
       "      <td>0.870388</td>\n",
       "      <td>0.960769</td>\n",
       "      <td>0.408248</td>\n",
       "      <td>0.149071</td>\n",
       "      <td>0.960769</td>\n",
       "      <td>NaN</td>\n",
       "      <td>NaN</td>\n",
       "    </tr>\n",
       "    <tr>\n",
       "      <th>Lithuanian</th>\n",
       "      <td>0.778499</td>\n",
       "      <td>0.787726</td>\n",
       "      <td>0.456435</td>\n",
       "      <td>-0.200000</td>\n",
       "      <td>0.787726</td>\n",
       "      <td>0.745356</td>\n",
       "      <td>NaN</td>\n",
       "    </tr>\n",
       "    <tr>\n",
       "      <th>Swedish</th>\n",
       "      <td>0.752618</td>\n",
       "      <td>1.000000</td>\n",
       "      <td>0.392232</td>\n",
       "      <td>0.071611</td>\n",
       "      <td>1.000000</td>\n",
       "      <td>0.960769</td>\n",
       "      <td>0.787726</td>\n",
       "    </tr>\n",
       "  </tbody>\n",
       "</table>\n",
       "</div>"
      ],
      "text/plain": [
       "Language1      Danish  Estonian   Finnish  Greenlandic  Icelandic   Latvian  \\\n",
       "Language2                                                                     \n",
       "Estonian     0.752618       NaN       NaN          NaN        NaN       NaN   \n",
       "Finnish      0.426401  0.392232       NaN          NaN        NaN       NaN   \n",
       "Greenlandic  0.077850  0.071611  0.639010          NaN   0.071611       NaN   \n",
       "Icelandic    0.752618  1.000000  0.392232          NaN        NaN       NaN   \n",
       "Latvian      0.870388  0.960769  0.408248     0.149071   0.960769       NaN   \n",
       "Lithuanian   0.778499  0.787726  0.456435    -0.200000   0.787726  0.745356   \n",
       "Swedish      0.752618  1.000000  0.392232     0.071611   1.000000  0.960769   \n",
       "\n",
       "Language1    Lithuanian  \n",
       "Language2                \n",
       "Estonian            NaN  \n",
       "Finnish             NaN  \n",
       "Greenlandic         NaN  \n",
       "Icelandic           NaN  \n",
       "Latvian             NaN  \n",
       "Lithuanian          NaN  \n",
       "Swedish        0.787726  "
      ]
     },
     "execution_count": 238,
     "metadata": {},
     "output_type": "execute_result"
    }
   ],
   "source": [
    "df_distance_wn_langs_feature"
   ]
  },
  {
   "cell_type": "code",
   "execution_count": 241,
   "id": "3dd835fe-7977-4510-a9e5-edcfd7f13246",
   "metadata": {},
   "outputs": [],
   "source": [
    "sns.set_theme(style=\"whitegrid\", font_scale=1)\n"
   ]
  },
  {
   "cell_type": "code",
   "execution_count": 275,
   "id": "63127efe-d222-4455-b487-69cc690b05a7",
   "metadata": {},
   "outputs": [
    {
     "data": {
      "text/plain": [
       "<Figure size 800x700 with 0 Axes>"
      ]
     },
     "metadata": {},
     "output_type": "display_data"
    }
   ],
   "source": [
    "plt.figure(figsize=(8,7))\n",
    "plt.title(\"Lexicon Typological Feature Distance\", fontsize=12)\n",
    "\n",
    "sns.heatmap(df_distance_wn_langs_feature)\n",
    "plt.xticks(rotation=45)\n",
    "plt.savefig(\"../output/wn_feature.png\")\n",
    "plt.clf()"
   ]
  },
  {
   "cell_type": "code",
   "execution_count": 247,
   "id": "50af4a10-e6c2-480a-b7c1-00a7aee7197b",
   "metadata": {
    "scrolled": true,
    "tags": []
   },
   "outputs": [
    {
     "data": {
      "text/html": [
       "<div>\n",
       "<style scoped>\n",
       "    .dataframe tbody tr th:only-of-type {\n",
       "        vertical-align: middle;\n",
       "    }\n",
       "\n",
       "    .dataframe tbody tr th {\n",
       "        vertical-align: top;\n",
       "    }\n",
       "\n",
       "    .dataframe thead th {\n",
       "        text-align: right;\n",
       "    }\n",
       "</style>\n",
       "<table border=\"1\" class=\"dataframe\">\n",
       "  <thead>\n",
       "    <tr style=\"text-align: right;\">\n",
       "      <th></th>\n",
       "      <th>Language1</th>\n",
       "      <th>Language2</th>\n",
       "      <th>WALS Feature</th>\n",
       "      <th>WordNet</th>\n",
       "      <th>WordNet Concept</th>\n",
       "      <th>Language Pair</th>\n",
       "    </tr>\n",
       "  </thead>\n",
       "  <tbody>\n",
       "    <tr>\n",
       "      <th>1518</th>\n",
       "      <td>Icelandic</td>\n",
       "      <td>Greenlandic</td>\n",
       "      <td>0.071611</td>\n",
       "      <td>0.157230</td>\n",
       "      <td>-0.060477</td>\n",
       "      <td>Icelandic-Greenlandic</td>\n",
       "    </tr>\n",
       "    <tr>\n",
       "      <th>1534</th>\n",
       "      <td>Estonian</td>\n",
       "      <td>Greenlandic</td>\n",
       "      <td>0.071611</td>\n",
       "      <td>0.192219</td>\n",
       "      <td>0.090950</td>\n",
       "      <td>Estonian-Greenlandic</td>\n",
       "    </tr>\n",
       "    <tr>\n",
       "      <th>1629</th>\n",
       "      <td>Finnish</td>\n",
       "      <td>Greenlandic</td>\n",
       "      <td>0.639010</td>\n",
       "      <td>-0.062563</td>\n",
       "      <td>0.065486</td>\n",
       "      <td>Finnish-Greenlandic</td>\n",
       "    </tr>\n",
       "    <tr>\n",
       "      <th>1648</th>\n",
       "      <td>Greenlandic</td>\n",
       "      <td>Latvian</td>\n",
       "      <td>0.149071</td>\n",
       "      <td>0.222072</td>\n",
       "      <td>0.143123</td>\n",
       "      <td>Greenlandic-Latvian</td>\n",
       "    </tr>\n",
       "    <tr>\n",
       "      <th>1656</th>\n",
       "      <td>Greenlandic</td>\n",
       "      <td>Lithuanian</td>\n",
       "      <td>-0.200000</td>\n",
       "      <td>0.211941</td>\n",
       "      <td>0.066888</td>\n",
       "      <td>Greenlandic-Lithuanian</td>\n",
       "    </tr>\n",
       "    <tr>\n",
       "      <th>1657</th>\n",
       "      <td>Greenlandic</td>\n",
       "      <td>Swedish</td>\n",
       "      <td>0.071611</td>\n",
       "      <td>0.164336</td>\n",
       "      <td>0.156218</td>\n",
       "      <td>Greenlandic-Swedish</td>\n",
       "    </tr>\n",
       "    <tr>\n",
       "      <th>1666</th>\n",
       "      <td>Danish</td>\n",
       "      <td>Greenlandic</td>\n",
       "      <td>0.077850</td>\n",
       "      <td>0.203156</td>\n",
       "      <td>0.143231</td>\n",
       "      <td>Danish-Greenlandic</td>\n",
       "    </tr>\n",
       "    <tr>\n",
       "      <th>8184</th>\n",
       "      <td>Estonian</td>\n",
       "      <td>Icelandic</td>\n",
       "      <td>1.000000</td>\n",
       "      <td>0.678645</td>\n",
       "      <td>0.562373</td>\n",
       "      <td>Estonian-Icelandic</td>\n",
       "    </tr>\n",
       "    <tr>\n",
       "      <th>8279</th>\n",
       "      <td>Finnish</td>\n",
       "      <td>Icelandic</td>\n",
       "      <td>0.392232</td>\n",
       "      <td>0.134833</td>\n",
       "      <td>0.152206</td>\n",
       "      <td>Finnish-Icelandic</td>\n",
       "    </tr>\n",
       "    <tr>\n",
       "      <th>8298</th>\n",
       "      <td>Icelandic</td>\n",
       "      <td>Latvian</td>\n",
       "      <td>0.960769</td>\n",
       "      <td>0.502366</td>\n",
       "      <td>0.495860</td>\n",
       "      <td>Icelandic-Latvian</td>\n",
       "    </tr>\n",
       "    <tr>\n",
       "      <th>8306</th>\n",
       "      <td>Icelandic</td>\n",
       "      <td>Lithuanian</td>\n",
       "      <td>0.787726</td>\n",
       "      <td>0.530529</td>\n",
       "      <td>0.541662</td>\n",
       "      <td>Icelandic-Lithuanian</td>\n",
       "    </tr>\n",
       "    <tr>\n",
       "      <th>8307</th>\n",
       "      <td>Icelandic</td>\n",
       "      <td>Swedish</td>\n",
       "      <td>1.000000</td>\n",
       "      <td>0.750407</td>\n",
       "      <td>0.649354</td>\n",
       "      <td>Icelandic-Swedish</td>\n",
       "    </tr>\n",
       "    <tr>\n",
       "      <th>8316</th>\n",
       "      <td>Danish</td>\n",
       "      <td>Icelandic</td>\n",
       "      <td>0.752618</td>\n",
       "      <td>0.737766</td>\n",
       "      <td>0.717196</td>\n",
       "      <td>Danish-Icelandic</td>\n",
       "    </tr>\n",
       "    <tr>\n",
       "      <th>10911</th>\n",
       "      <td>Estonian</td>\n",
       "      <td>Finnish</td>\n",
       "      <td>0.392232</td>\n",
       "      <td>0.279943</td>\n",
       "      <td>0.303978</td>\n",
       "      <td>Estonian-Finnish</td>\n",
       "    </tr>\n",
       "    <tr>\n",
       "      <th>10930</th>\n",
       "      <td>Estonian</td>\n",
       "      <td>Latvian</td>\n",
       "      <td>0.960769</td>\n",
       "      <td>0.798532</td>\n",
       "      <td>0.809713</td>\n",
       "      <td>Estonian-Latvian</td>\n",
       "    </tr>\n",
       "    <tr>\n",
       "      <th>10938</th>\n",
       "      <td>Estonian</td>\n",
       "      <td>Lithuanian</td>\n",
       "      <td>0.787726</td>\n",
       "      <td>0.639040</td>\n",
       "      <td>0.678185</td>\n",
       "      <td>Estonian-Lithuanian</td>\n",
       "    </tr>\n",
       "    <tr>\n",
       "      <th>10939</th>\n",
       "      <td>Estonian</td>\n",
       "      <td>Swedish</td>\n",
       "      <td>1.000000</td>\n",
       "      <td>0.689164</td>\n",
       "      <td>0.661104</td>\n",
       "      <td>Estonian-Swedish</td>\n",
       "    </tr>\n",
       "    <tr>\n",
       "      <th>10948</th>\n",
       "      <td>Danish</td>\n",
       "      <td>Estonian</td>\n",
       "      <td>0.752618</td>\n",
       "      <td>0.663323</td>\n",
       "      <td>0.638592</td>\n",
       "      <td>Danish-Estonian</td>\n",
       "    </tr>\n",
       "    <tr>\n",
       "      <th>21285</th>\n",
       "      <td>Finnish</td>\n",
       "      <td>Latvian</td>\n",
       "      <td>0.408248</td>\n",
       "      <td>0.125221</td>\n",
       "      <td>0.185700</td>\n",
       "      <td>Finnish-Latvian</td>\n",
       "    </tr>\n",
       "    <tr>\n",
       "      <th>21293</th>\n",
       "      <td>Finnish</td>\n",
       "      <td>Lithuanian</td>\n",
       "      <td>0.456435</td>\n",
       "      <td>0.161737</td>\n",
       "      <td>0.150287</td>\n",
       "      <td>Finnish-Lithuanian</td>\n",
       "    </tr>\n",
       "    <tr>\n",
       "      <th>21294</th>\n",
       "      <td>Finnish</td>\n",
       "      <td>Swedish</td>\n",
       "      <td>0.392232</td>\n",
       "      <td>0.111098</td>\n",
       "      <td>0.252957</td>\n",
       "      <td>Finnish-Swedish</td>\n",
       "    </tr>\n",
       "    <tr>\n",
       "      <th>21303</th>\n",
       "      <td>Danish</td>\n",
       "      <td>Finnish</td>\n",
       "      <td>0.426401</td>\n",
       "      <td>0.086982</td>\n",
       "      <td>0.175494</td>\n",
       "      <td>Danish-Finnish</td>\n",
       "    </tr>\n",
       "    <tr>\n",
       "      <th>22281</th>\n",
       "      <td>Latvian</td>\n",
       "      <td>Lithuanian</td>\n",
       "      <td>0.745356</td>\n",
       "      <td>0.707088</td>\n",
       "      <td>0.647357</td>\n",
       "      <td>Latvian-Lithuanian</td>\n",
       "    </tr>\n",
       "    <tr>\n",
       "      <th>22282</th>\n",
       "      <td>Latvian</td>\n",
       "      <td>Swedish</td>\n",
       "      <td>0.960769</td>\n",
       "      <td>0.609915</td>\n",
       "      <td>0.559608</td>\n",
       "      <td>Latvian-Swedish</td>\n",
       "    </tr>\n",
       "    <tr>\n",
       "      <th>22291</th>\n",
       "      <td>Danish</td>\n",
       "      <td>Latvian</td>\n",
       "      <td>0.870388</td>\n",
       "      <td>0.575195</td>\n",
       "      <td>0.570168</td>\n",
       "      <td>Danish-Latvian</td>\n",
       "    </tr>\n",
       "    <tr>\n",
       "      <th>22590</th>\n",
       "      <td>Lithuanian</td>\n",
       "      <td>Swedish</td>\n",
       "      <td>0.787726</td>\n",
       "      <td>0.546449</td>\n",
       "      <td>0.583543</td>\n",
       "      <td>Lithuanian-Swedish</td>\n",
       "    </tr>\n",
       "    <tr>\n",
       "      <th>22599</th>\n",
       "      <td>Danish</td>\n",
       "      <td>Lithuanian</td>\n",
       "      <td>0.778499</td>\n",
       "      <td>0.527790</td>\n",
       "      <td>0.494153</td>\n",
       "      <td>Danish-Lithuanian</td>\n",
       "    </tr>\n",
       "    <tr>\n",
       "      <th>22633</th>\n",
       "      <td>Danish</td>\n",
       "      <td>Swedish</td>\n",
       "      <td>0.752618</td>\n",
       "      <td>0.817743</td>\n",
       "      <td>0.773803</td>\n",
       "      <td>Danish-Swedish</td>\n",
       "    </tr>\n",
       "  </tbody>\n",
       "</table>\n",
       "</div>"
      ],
      "text/plain": [
       "         Language1    Language2  WALS Feature   WordNet  WordNet Concept  \\\n",
       "1518     Icelandic  Greenlandic      0.071611  0.157230        -0.060477   \n",
       "1534      Estonian  Greenlandic      0.071611  0.192219         0.090950   \n",
       "1629       Finnish  Greenlandic      0.639010 -0.062563         0.065486   \n",
       "1648   Greenlandic      Latvian      0.149071  0.222072         0.143123   \n",
       "1656   Greenlandic   Lithuanian     -0.200000  0.211941         0.066888   \n",
       "1657   Greenlandic      Swedish      0.071611  0.164336         0.156218   \n",
       "1666        Danish  Greenlandic      0.077850  0.203156         0.143231   \n",
       "8184      Estonian    Icelandic      1.000000  0.678645         0.562373   \n",
       "8279       Finnish    Icelandic      0.392232  0.134833         0.152206   \n",
       "8298     Icelandic      Latvian      0.960769  0.502366         0.495860   \n",
       "8306     Icelandic   Lithuanian      0.787726  0.530529         0.541662   \n",
       "8307     Icelandic      Swedish      1.000000  0.750407         0.649354   \n",
       "8316        Danish    Icelandic      0.752618  0.737766         0.717196   \n",
       "10911     Estonian      Finnish      0.392232  0.279943         0.303978   \n",
       "10930     Estonian      Latvian      0.960769  0.798532         0.809713   \n",
       "10938     Estonian   Lithuanian      0.787726  0.639040         0.678185   \n",
       "10939     Estonian      Swedish      1.000000  0.689164         0.661104   \n",
       "10948       Danish     Estonian      0.752618  0.663323         0.638592   \n",
       "21285      Finnish      Latvian      0.408248  0.125221         0.185700   \n",
       "21293      Finnish   Lithuanian      0.456435  0.161737         0.150287   \n",
       "21294      Finnish      Swedish      0.392232  0.111098         0.252957   \n",
       "21303       Danish      Finnish      0.426401  0.086982         0.175494   \n",
       "22281      Latvian   Lithuanian      0.745356  0.707088         0.647357   \n",
       "22282      Latvian      Swedish      0.960769  0.609915         0.559608   \n",
       "22291       Danish      Latvian      0.870388  0.575195         0.570168   \n",
       "22590   Lithuanian      Swedish      0.787726  0.546449         0.583543   \n",
       "22599       Danish   Lithuanian      0.778499  0.527790         0.494153   \n",
       "22633       Danish      Swedish      0.752618  0.817743         0.773803   \n",
       "\n",
       "                Language Pair  \n",
       "1518    Icelandic-Greenlandic  \n",
       "1534     Estonian-Greenlandic  \n",
       "1629      Finnish-Greenlandic  \n",
       "1648      Greenlandic-Latvian  \n",
       "1656   Greenlandic-Lithuanian  \n",
       "1657      Greenlandic-Swedish  \n",
       "1666       Danish-Greenlandic  \n",
       "8184       Estonian-Icelandic  \n",
       "8279        Finnish-Icelandic  \n",
       "8298        Icelandic-Latvian  \n",
       "8306     Icelandic-Lithuanian  \n",
       "8307        Icelandic-Swedish  \n",
       "8316         Danish-Icelandic  \n",
       "10911        Estonian-Finnish  \n",
       "10930        Estonian-Latvian  \n",
       "10938     Estonian-Lithuanian  \n",
       "10939        Estonian-Swedish  \n",
       "10948         Danish-Estonian  \n",
       "21285         Finnish-Latvian  \n",
       "21293      Finnish-Lithuanian  \n",
       "21294         Finnish-Swedish  \n",
       "21303          Danish-Finnish  \n",
       "22281      Latvian-Lithuanian  \n",
       "22282         Latvian-Swedish  \n",
       "22291          Danish-Latvian  \n",
       "22590      Lithuanian-Swedish  \n",
       "22599       Danish-Lithuanian  \n",
       "22633          Danish-Swedish  "
      ]
     },
     "execution_count": 247,
     "metadata": {},
     "output_type": "execute_result"
    }
   ],
   "source": [
    "df_distance_wn_langs"
   ]
  },
  {
   "cell_type": "code",
   "execution_count": 261,
   "id": "e27f21ba-1c91-4f60-9091-187d42a6a731",
   "metadata": {},
   "outputs": [],
   "source": [
    "from matplotlib import rcParams\n"
   ]
  },
  {
   "cell_type": "code",
   "execution_count": 273,
   "id": "c1931535-4924-4fb9-801b-4d464f9030a6",
   "metadata": {},
   "outputs": [
    {
     "name": "stderr",
     "output_type": "stream",
     "text": [
      "/var/folders/n4/_229c3094s1blstjbm14zsdw0000gn/T/ipykernel_99938/1804542485.py:1: FutureWarning: In a future version of pandas all arguments of DataFrame.pivot will be keyword-only.\n",
      "  df_distance_wn_langs_wn_emb = df_distance_wn_langs[[\"Language1\",\"Language2\", \"WordNet\"]].pivot(\"Language1\",\"Language2\", \"WordNet\").T\n"
     ]
    },
    {
     "data": {
      "text/plain": [
       "<Figure size 800x700 with 0 Axes>"
      ]
     },
     "metadata": {},
     "output_type": "display_data"
    }
   ],
   "source": [
    "df_distance_wn_langs_wn_emb = df_distance_wn_langs[[\"Language1\",\"Language2\", \"WordNet\"]].pivot(\"Language1\",\"Language2\", \"WordNet\").T\n",
    "\n",
    "plt.figure(figsize=(8,7))\n",
    "plt.title(\"WordNet Language Embeddings Distance\", fontsize=12)\n",
    "sns.heatmap(df_distance_wn_langs_wn_emb)\n",
    "plt.xticks(rotation=45)\n",
    "\n",
    "plt.savefig(\"../output/wn_wn.png\")\n",
    "plt.clf()"
   ]
  },
  {
   "cell_type": "code",
   "execution_count": 276,
   "id": "e53bb9b4-fcdc-4219-b22a-9c12f4c883dc",
   "metadata": {},
   "outputs": [
    {
     "name": "stderr",
     "output_type": "stream",
     "text": [
      "/var/folders/n4/_229c3094s1blstjbm14zsdw0000gn/T/ipykernel_99938/1255372727.py:1: FutureWarning: In a future version of pandas all arguments of DataFrame.pivot will be keyword-only.\n",
      "  df_distance_wn_langs_wn_concept_emb = df_distance_wn_langs[[\"Language1\",\"Language2\", \"WordNet Concept\"]].pivot(\"Language1\",\"Language2\", \"WordNet Concept\").T\n"
     ]
    },
    {
     "data": {
      "image/png": "[encoded data removed]",
      "text/plain": [
       "<Figure size 800x700 with 2 Axes>"
      ]
     },
     "metadata": {},
     "output_type": "display_data"
    }
   ],
   "source": [
    "\n",
    "df_distance_wn_langs_wn_concept_emb = df_distance_wn_langs[[\"Language1\",\"Language2\", \"WordNet Concept\"]].pivot(\"Language1\",\"Language2\", \"WordNet Concept\").T\n",
    "plt.figure(figsize=(8,7))\n",
    "\n",
    "plt.title(\"WordNet Concept Language Embeddings Distance\", fontsize=12)\n",
    "sns.heatmap(df_distance_wn_langs_wn_concept_emb)\n",
    "plt.xticks(rotation=45)\n",
    "\n",
    "plt.savefig(\"../output/wn_concept.png\")"
   ]
  },
  {
   "cell_type": "code",
   "execution_count": 202,
   "id": "c211f628-2e49-4135-96f5-e7efae23143a",
   "metadata": {},
   "outputs": [
    {
     "name": "stderr",
     "output_type": "stream",
     "text": [
      "/var/folders/n4/_229c3094s1blstjbm14zsdw0000gn/T/ipykernel_99938/1894887983.py:1: FutureWarning: In a future version of pandas all arguments of DataFrame.pivot will be keyword-only.\n",
      "  glue.pivot(\"Model\", \"Task\", \"Score\")\n"
     ]
    },
    {
     "data": {
      "text/html": [
       "<div>\n",
       "<style scoped>\n",
       "    .dataframe tbody tr th:only-of-type {\n",
       "        vertical-align: middle;\n",
       "    }\n",
       "\n",
       "    .dataframe tbody tr th {\n",
       "        vertical-align: top;\n",
       "    }\n",
       "\n",
       "    .dataframe thead th {\n",
       "        text-align: right;\n",
       "    }\n",
       "</style>\n",
       "<table border=\"1\" class=\"dataframe\">\n",
       "  <thead>\n",
       "    <tr style=\"text-align: right;\">\n",
       "      <th>Task</th>\n",
       "      <th>CoLA</th>\n",
       "      <th>MNLI</th>\n",
       "      <th>MRPC</th>\n",
       "      <th>QNLI</th>\n",
       "      <th>QQP</th>\n",
       "      <th>RTE</th>\n",
       "      <th>SST-2</th>\n",
       "      <th>STS-B</th>\n",
       "    </tr>\n",
       "    <tr>\n",
       "      <th>Model</th>\n",
       "      <th></th>\n",
       "      <th></th>\n",
       "      <th></th>\n",
       "      <th></th>\n",
       "      <th></th>\n",
       "      <th></th>\n",
       "      <th></th>\n",
       "      <th></th>\n",
       "    </tr>\n",
       "  </thead>\n",
       "  <tbody>\n",
       "    <tr>\n",
       "      <th>BERT</th>\n",
       "      <td>60.5</td>\n",
       "      <td>86.7</td>\n",
       "      <td>89.3</td>\n",
       "      <td>92.7</td>\n",
       "      <td>72.1</td>\n",
       "      <td>70.1</td>\n",
       "      <td>94.9</td>\n",
       "      <td>87.6</td>\n",
       "    </tr>\n",
       "    <tr>\n",
       "      <th>BiLSTM</th>\n",
       "      <td>11.6</td>\n",
       "      <td>65.6</td>\n",
       "      <td>81.8</td>\n",
       "      <td>74.6</td>\n",
       "      <td>62.5</td>\n",
       "      <td>57.4</td>\n",
       "      <td>82.8</td>\n",
       "      <td>70.3</td>\n",
       "    </tr>\n",
       "    <tr>\n",
       "      <th>BiLSTM+Attn</th>\n",
       "      <td>18.6</td>\n",
       "      <td>67.6</td>\n",
       "      <td>83.9</td>\n",
       "      <td>74.3</td>\n",
       "      <td>60.1</td>\n",
       "      <td>58.4</td>\n",
       "      <td>83.0</td>\n",
       "      <td>72.8</td>\n",
       "    </tr>\n",
       "    <tr>\n",
       "      <th>BiLSTM+CoVe</th>\n",
       "      <td>18.5</td>\n",
       "      <td>65.4</td>\n",
       "      <td>78.7</td>\n",
       "      <td>70.8</td>\n",
       "      <td>60.6</td>\n",
       "      <td>52.7</td>\n",
       "      <td>81.9</td>\n",
       "      <td>64.4</td>\n",
       "    </tr>\n",
       "    <tr>\n",
       "      <th>BiLSTM+ELMo</th>\n",
       "      <td>32.1</td>\n",
       "      <td>67.2</td>\n",
       "      <td>84.7</td>\n",
       "      <td>75.5</td>\n",
       "      <td>61.1</td>\n",
       "      <td>57.4</td>\n",
       "      <td>89.3</td>\n",
       "      <td>70.3</td>\n",
       "    </tr>\n",
       "    <tr>\n",
       "      <th>ERNIE</th>\n",
       "      <td>75.5</td>\n",
       "      <td>92.3</td>\n",
       "      <td>93.9</td>\n",
       "      <td>97.3</td>\n",
       "      <td>75.2</td>\n",
       "      <td>92.6</td>\n",
       "      <td>97.8</td>\n",
       "      <td>93.0</td>\n",
       "    </tr>\n",
       "    <tr>\n",
       "      <th>RoBERTa</th>\n",
       "      <td>67.8</td>\n",
       "      <td>90.8</td>\n",
       "      <td>92.3</td>\n",
       "      <td>95.4</td>\n",
       "      <td>74.3</td>\n",
       "      <td>88.2</td>\n",
       "      <td>96.7</td>\n",
       "      <td>92.2</td>\n",
       "    </tr>\n",
       "    <tr>\n",
       "      <th>T5</th>\n",
       "      <td>71.6</td>\n",
       "      <td>92.2</td>\n",
       "      <td>92.8</td>\n",
       "      <td>96.9</td>\n",
       "      <td>75.1</td>\n",
       "      <td>92.8</td>\n",
       "      <td>97.5</td>\n",
       "      <td>93.1</td>\n",
       "    </tr>\n",
       "  </tbody>\n",
       "</table>\n",
       "</div>"
      ],
      "text/plain": [
       "Task         CoLA  MNLI  MRPC  QNLI   QQP   RTE  SST-2  STS-B\n",
       "Model                                                        \n",
       "BERT         60.5  86.7  89.3  92.7  72.1  70.1   94.9   87.6\n",
       "BiLSTM       11.6  65.6  81.8  74.6  62.5  57.4   82.8   70.3\n",
       "BiLSTM+Attn  18.6  67.6  83.9  74.3  60.1  58.4   83.0   72.8\n",
       "BiLSTM+CoVe  18.5  65.4  78.7  70.8  60.6  52.7   81.9   64.4\n",
       "BiLSTM+ELMo  32.1  67.2  84.7  75.5  61.1  57.4   89.3   70.3\n",
       "ERNIE        75.5  92.3  93.9  97.3  75.2  92.6   97.8   93.0\n",
       "RoBERTa      67.8  90.8  92.3  95.4  74.3  88.2   96.7   92.2\n",
       "T5           71.6  92.2  92.8  96.9  75.1  92.8   97.5   93.1"
      ]
     },
     "execution_count": 202,
     "metadata": {},
     "output_type": "execute_result"
    }
   ],
   "source": [
    "glue.pivot(\"Model\", \"Task\", \"Score\")"
   ]
  },
  {
   "cell_type": "code",
   "execution_count": null,
   "id": "06218183-448b-4e77-a10e-8523f813cb3e",
   "metadata": {},
   "outputs": [],
   "source": []
  },
  {
   "cell_type": "markdown",
   "id": "fa4611e6-a7e2-4654-b3d3-9958f0c69535",
   "metadata": {},
   "source": [
    "#### PEARSONR Correlation"
   ]
  },
  {
   "cell_type": "code",
   "execution_count": 340,
   "id": "9999c117-6471-4262-88f0-f6dce52df95b",
   "metadata": {
    "scrolled": true,
    "tags": []
   },
   "outputs": [
    {
     "data": {
      "text/plain": [
       "(28, 28)"
      ]
     },
     "execution_count": 340,
     "metadata": {},
     "output_type": "execute_result"
    }
   ],
   "source": [
    "len(df_distance_clics_langs), len(df_distance_wn_langs)"
   ]
  },
  {
   "cell_type": "code",
   "execution_count": 176,
   "id": "b80d320c-5886-4346-bc96-43472ef71789",
   "metadata": {},
   "outputs": [
    {
     "data": {
      "text/plain": [
       "(-0.08762171443909288, 0.657500916361288)"
      ]
     },
     "execution_count": 176,
     "metadata": {},
     "output_type": "execute_result"
    }
   ],
   "source": [
    "pearsonr(df_distance_clics_langs[\"feature_distance\"].to_numpy(), df_distance_clics_langs[\"lang_distance_clics\"].to_numpy())"
   ]
  },
  {
   "cell_type": "code",
   "execution_count": 175,
   "id": "140d8599-cb56-499a-ba2b-6bcacdc550d3",
   "metadata": {},
   "outputs": [
    {
     "data": {
      "text/plain": [
       "(0.7679529144136176, 1.8379018907908466e-06)"
      ]
     },
     "execution_count": 175,
     "metadata": {},
     "output_type": "execute_result"
    }
   ],
   "source": [
    "pearsonr(df_distance_wn_langs[\"feature_distance\"].to_numpy(), df_distance_wn_langs[\"lang_distance_wn\"].to_numpy())"
   ]
  },
  {
   "cell_type": "code",
   "execution_count": 177,
   "id": "8695af45-aabf-4ec1-8ebf-d121f483c09f",
   "metadata": {},
   "outputs": [
    {
     "data": {
      "text/plain": [
       "(0.8515104321628155, 9.210179109334634e-09)"
      ]
     },
     "execution_count": 177,
     "metadata": {},
     "output_type": "execute_result"
    }
   ],
   "source": [
    "pearsonr(df_distance_wn_langs[\"feature_distance\"].to_numpy(), df_distance_wn_langs[\"lang_distance_wn_concept\"].to_numpy())"
   ]
  },
  {
   "cell_type": "code",
   "execution_count": 283,
   "id": "65ea2dfd-d976-45db-8063-e3c9e5731d6f",
   "metadata": {},
   "outputs": [
    {
     "data": {
      "text/plain": [
       "28"
      ]
     },
     "execution_count": 283,
     "metadata": {},
     "output_type": "execute_result"
    }
   ],
   "source": [
    "len(df_distance_wn_langs)"
   ]
  },
  {
   "cell_type": "code",
   "execution_count": 341,
   "id": "b5d08e05-1e0c-471d-a583-00fa28776ad5",
   "metadata": {},
   "outputs": [
    {
     "data": {
      "text/plain": [
       "(-0.08762171443909288, 0.657500916361288)"
      ]
     },
     "execution_count": 341,
     "metadata": {},
     "output_type": "execute_result"
    }
   ],
   "source": [
    "pearsonr(df_distance_clics_langs[\"feature_distance\"].to_numpy(), df_distance_clics_langs[\"lang_distance_clics\"].to_numpy())"
   ]
  },
  {
   "cell_type": "code",
   "execution_count": null,
   "id": "40741fb5-6e53-4d90-93d2-81efebee045d",
   "metadata": {},
   "outputs": [],
   "source": []
  },
  {
   "cell_type": "code",
   "execution_count": null,
   "id": "0f76befb-53f9-4ed9-9bcb-fa50d359acf5",
   "metadata": {},
   "outputs": [],
   "source": []
  },
  {
   "cell_type": "code",
   "execution_count": 178,
   "id": "144e5994-bdf2-427a-82fe-ed1fe607ecf1",
   "metadata": {},
   "outputs": [
    {
     "data": {
      "text/plain": [
       "<seaborn.axisgrid.FacetGrid at 0x176413a60>"
      ]
     },
     "execution_count": 178,
     "metadata": {},
     "output_type": "execute_result"
    },
    {
     "data": {
      "image/png": "[encoded data removed]",
      "text/plain": [
       "<Figure size 500x500 with 1 Axes>"
      ]
     },
     "metadata": {},
     "output_type": "display_data"
    }
   ],
   "source": [
    "sns.relplot(data=df_distance_wn_langs, x=\"feature_distance\", y=\"lang_distance_wn_concept\")\n"
   ]
  },
  {
   "cell_type": "code",
   "execution_count": 285,
   "id": "1f074028-2f8a-462e-b3b5-6089794f566d",
   "metadata": {},
   "outputs": [
    {
     "data": {
      "text/plain": [
       "(23220, 58653)"
      ]
     },
     "execution_count": 285,
     "metadata": {},
     "output_type": "execute_result"
    }
   ],
   "source": [
    "len(df_distance_wn), len(df_distance_clics)"
   ]
  },
  {
   "cell_type": "code",
   "execution_count": 120,
   "id": "fa1b29b0-6cf2-47f9-bb48-d42d8acfea59",
   "metadata": {},
   "outputs": [
    {
     "data": {
      "text/plain": [
       "(0.12738740745223426, 1.3391396605461284e-84)"
      ]
     },
     "execution_count": 120,
     "metadata": {},
     "output_type": "execute_result"
    }
   ],
   "source": [
    "pearsonr(df_distance_wn[\"feature_distance\"].to_numpy(), df_distance_wn[\"lang_distance_wn_concept\"].to_numpy())"
   ]
  },
  {
   "cell_type": "code",
   "execution_count": 122,
   "id": "55bbe92c-28e2-42cb-aae6-192c369a26f8",
   "metadata": {},
   "outputs": [
    {
     "data": {
      "text/plain": [
       "(-0.04944400661933561, 4.436179249654731e-33)"
      ]
     },
     "execution_count": 122,
     "metadata": {},
     "output_type": "execute_result"
    }
   ],
   "source": [
    "pearsonr(df_distance_clics[\"feature_distance\"].to_numpy(), df_distance_clics[\"lang_distance_clics\"].to_numpy())"
   ]
  },
  {
   "cell_type": "code",
   "execution_count": 277,
   "id": "27d596fe-b63d-43b1-ac74-f3438fc6cf7f",
   "metadata": {},
   "outputs": [
    {
     "data": {
      "text/plain": [
       "(0.14690955526320498, 3.524768247444803e-112)"
      ]
     },
     "execution_count": 277,
     "metadata": {},
     "output_type": "execute_result"
    }
   ],
   "source": [
    "pearsonr(df_distance_wn[\"feature_distance\"].to_numpy(), df_distance_wn[\"lang_distance_wn\"].to_numpy())"
   ]
  },
  {
   "cell_type": "code",
   "execution_count": null,
   "id": "c4cca61d-e441-425d-be04-00c2d447b925",
   "metadata": {},
   "outputs": [],
   "source": []
  },
  {
   "cell_type": "code",
   "execution_count": 286,
   "id": "82d163b3-fbea-4a47-a088-d968131cd698",
   "metadata": {},
   "outputs": [
    {
     "data": {
      "text/plain": [
       "216"
      ]
     },
     "execution_count": 286,
     "metadata": {},
     "output_type": "execute_result"
    }
   ],
   "source": [
    "len(wn_vectors)"
   ]
  },
  {
   "cell_type": "code",
   "execution_count": 287,
   "id": "371b6e1a-26fe-4045-bdd2-cc2b624419e7",
   "metadata": {},
   "outputs": [
    {
     "data": {
      "text/plain": [
       "343"
      ]
     },
     "execution_count": 287,
     "metadata": {},
     "output_type": "execute_result"
    }
   ],
   "source": [
    "len(clics_vectors)"
   ]
  },
  {
   "cell_type": "code",
   "execution_count": 355,
   "id": "4ffffcf2-1eef-4a07-8896-948b68ffdffd",
   "metadata": {},
   "outputs": [
    {
     "data": {
      "text/html": [
       "<div>\n",
       "<style scoped>\n",
       "    .dataframe tbody tr th:only-of-type {\n",
       "        vertical-align: middle;\n",
       "    }\n",
       "\n",
       "    .dataframe tbody tr th {\n",
       "        vertical-align: top;\n",
       "    }\n",
       "\n",
       "    .dataframe thead th {\n",
       "        text-align: right;\n",
       "    }\n",
       "</style>\n",
       "<table border=\"1\" class=\"dataframe\">\n",
       "  <thead>\n",
       "    <tr style=\"text-align: right;\">\n",
       "      <th></th>\n",
       "      <th>ISO1</th>\n",
       "      <th>ISO2</th>\n",
       "      <th>feature_distance</th>\n",
       "      <th>lang_distance_wn</th>\n",
       "      <th>lang_distance_wn_concept</th>\n",
       "    </tr>\n",
       "  </thead>\n",
       "  <tbody>\n",
       "    <tr>\n",
       "      <th>0</th>\n",
       "      <td>eng</td>\n",
       "      <td>kat</td>\n",
       "      <td>-0.400892</td>\n",
       "      <td>-0.120365</td>\n",
       "      <td>0.089329</td>\n",
       "    </tr>\n",
       "    <tr>\n",
       "      <th>1</th>\n",
       "      <td>eng</td>\n",
       "      <td>lez</td>\n",
       "      <td>-0.519701</td>\n",
       "      <td>-0.084671</td>\n",
       "      <td>-0.030571</td>\n",
       "    </tr>\n",
       "    <tr>\n",
       "      <th>2</th>\n",
       "      <td>eng</td>\n",
       "      <td>evn</td>\n",
       "      <td>-0.489979</td>\n",
       "      <td>-0.073993</td>\n",
       "      <td>0.014623</td>\n",
       "    </tr>\n",
       "    <tr>\n",
       "      <th>3</th>\n",
       "      <td>abk</td>\n",
       "      <td>eng</td>\n",
       "      <td>-0.519701</td>\n",
       "      <td>-0.087824</td>\n",
       "      <td>-0.050268</td>\n",
       "    </tr>\n",
       "    <tr>\n",
       "      <th>4</th>\n",
       "      <td>arz</td>\n",
       "      <td>eng</td>\n",
       "      <td>-0.505076</td>\n",
       "      <td>-0.045466</td>\n",
       "      <td>-0.004394</td>\n",
       "    </tr>\n",
       "    <tr>\n",
       "      <th>...</th>\n",
       "      <td>...</td>\n",
       "      <td>...</td>\n",
       "      <td>...</td>\n",
       "      <td>...</td>\n",
       "      <td>...</td>\n",
       "    </tr>\n",
       "    <tr>\n",
       "      <th>23215</th>\n",
       "      <td>kum</td>\n",
       "      <td>rmy</td>\n",
       "      <td>0.678401</td>\n",
       "      <td>0.956402</td>\n",
       "      <td>0.971392</td>\n",
       "    </tr>\n",
       "    <tr>\n",
       "      <th>23216</th>\n",
       "      <td>rmy</td>\n",
       "      <td>tsn</td>\n",
       "      <td>0.904534</td>\n",
       "      <td>0.941226</td>\n",
       "      <td>0.948909</td>\n",
       "    </tr>\n",
       "    <tr>\n",
       "      <th>23217</th>\n",
       "      <td>kmr</td>\n",
       "      <td>kum</td>\n",
       "      <td>0.783349</td>\n",
       "      <td>0.786085</td>\n",
       "      <td>0.754341</td>\n",
       "    </tr>\n",
       "    <tr>\n",
       "      <th>23218</th>\n",
       "      <td>kmr</td>\n",
       "      <td>tsn</td>\n",
       "      <td>0.870388</td>\n",
       "      <td>0.796016</td>\n",
       "      <td>0.763995</td>\n",
       "    </tr>\n",
       "    <tr>\n",
       "      <th>23219</th>\n",
       "      <td>kum</td>\n",
       "      <td>tsn</td>\n",
       "      <td>0.909091</td>\n",
       "      <td>0.959184</td>\n",
       "      <td>0.956687</td>\n",
       "    </tr>\n",
       "  </tbody>\n",
       "</table>\n",
       "<p>23220 rows × 5 columns</p>\n",
       "</div>"
      ],
      "text/plain": [
       "      ISO1 ISO2  feature_distance  lang_distance_wn  lang_distance_wn_concept\n",
       "0      eng  kat         -0.400892         -0.120365                  0.089329\n",
       "1      eng  lez         -0.519701         -0.084671                 -0.030571\n",
       "2      eng  evn         -0.489979         -0.073993                  0.014623\n",
       "3      abk  eng         -0.519701         -0.087824                 -0.050268\n",
       "4      arz  eng         -0.505076         -0.045466                 -0.004394\n",
       "...    ...  ...               ...               ...                       ...\n",
       "23215  kum  rmy          0.678401          0.956402                  0.971392\n",
       "23216  rmy  tsn          0.904534          0.941226                  0.948909\n",
       "23217  kmr  kum          0.783349          0.786085                  0.754341\n",
       "23218  kmr  tsn          0.870388          0.796016                  0.763995\n",
       "23219  kum  tsn          0.909091          0.959184                  0.956687\n",
       "\n",
       "[23220 rows x 5 columns]"
      ]
     },
     "execution_count": 355,
     "metadata": {},
     "output_type": "execute_result"
    }
   ],
   "source": [
    "df_distance_wn"
   ]
  },
  {
   "cell_type": "code",
   "execution_count": null,
   "id": "77725ccd-581a-43f8-af19-a99bb6366cd8",
   "metadata": {},
   "outputs": [],
   "source": []
  },
  {
   "cell_type": "code",
   "execution_count": null,
   "id": "14ec3476-6896-4682-a029-de62cb1f2c44",
   "metadata": {},
   "outputs": [],
   "source": [
    "df_distance_clics_ = df_distance_clics"
   ]
  },
  {
   "cell_type": "code",
   "execution_count": 292,
   "id": "2717564f-a917-4e30-9aa8-59b8daff64d5",
   "metadata": {},
   "outputs": [],
   "source": [
    "fids = [\"129A\", \"130A\", \"130B\", \"131A\", \"132A\", \"133A\", \"134A\", \"135A\", \"136A\", \"136B\",\"137A\", \"137B\", \"138A\"]"
   ]
  },
  {
   "cell_type": "code",
   "execution_count": 293,
   "id": "6cd8cac0-edeb-4c1e-a30e-b9884846e133",
   "metadata": {},
   "outputs": [
    {
     "data": {
      "text/plain": [
       "13"
      ]
     },
     "execution_count": 293,
     "metadata": {},
     "output_type": "execute_result"
    }
   ],
   "source": [
    "len(fids)"
   ]
  },
  {
   "cell_type": "code",
   "execution_count": 27,
   "id": "862e2577-84ab-4a94-a40b-7938d195fe94",
   "metadata": {},
   "outputs": [],
   "source": [
    "with open(\"../data/TypPred/wals_features.yaml\") as f:\n",
    "    features = yaml.load(f, Loader)[\"Lexicon\"]"
   ]
  },
  {
   "cell_type": "code",
   "execution_count": 294,
   "id": "50d8db89-f761-4d07-a821-5eb7d948c6c9",
   "metadata": {},
   "outputs": [
    {
     "data": {
      "text/plain": [
       "['Hand_and_Arm',\n",
       " 'Finger_and_Hand',\n",
       " \"Cultural_Categories_of_Languages_with_Identity_of_'Finger'_and_'Hand'\",\n",
       " 'Numeral_Bases',\n",
       " 'Number_of_Non-Derived_Basic_Colour_Categories',\n",
       " 'Number_of_Basic_Colour_Categories',\n",
       " 'Green_and_Blue',\n",
       " 'Red_and_Yellow',\n",
       " 'M-T_Pronouns',\n",
       " 'M_in_First_Person_Singular',\n",
       " 'N-M_Pronouns',\n",
       " 'M_in_Second_Person_Singular',\n",
       " 'Tea']"
      ]
     },
     "execution_count": 294,
     "metadata": {},
     "output_type": "execute_result"
    }
   ],
   "source": [
    "feature_names = list(features.values())\n",
    "feature_names"
   ]
  },
  {
   "cell_type": "code",
   "execution_count": 295,
   "id": "d224f069-3090-4be3-bdb5-a26aa5d6e1c6",
   "metadata": {},
   "outputs": [
    {
     "data": {
      "text/plain": [
       "13"
      ]
     },
     "execution_count": 295,
     "metadata": {},
     "output_type": "execute_result"
    }
   ],
   "source": [
    "len(feature_names)"
   ]
  },
  {
   "cell_type": "code",
   "execution_count": 296,
   "id": "be7954a0-471c-4825-a4e6-849a1b444489",
   "metadata": {},
   "outputs": [],
   "source": [
    "data_dir = \"../data/TypPred/datasets/\"\n",
    "\n",
    "train_file = os.path.join(data_dir, f\"train_dev.csv\")\n",
    "test_file = os.path.join(data_dir, f\"test.csv\")\n",
    "train = pd.read_csv(train_file)\n",
    "test= pd.read_csv(test_file)\n",
    "\n",
    "df_train_test = pd.concat([train,test], axis=0)\n",
    "\n"
   ]
  },
  {
   "cell_type": "code",
   "execution_count": 297,
   "id": "23c4f56c-e517-4e41-9e3f-975510132cf2",
   "metadata": {},
   "outputs": [
    {
     "data": {
      "text/plain": [
       "2371"
      ]
     },
     "execution_count": 297,
     "metadata": {},
     "output_type": "execute_result"
    }
   ],
   "source": [
    "len(df_train_test)"
   ]
  },
  {
   "cell_type": "code",
   "execution_count": 298,
   "id": "fefb4a6a-ecde-43b5-920e-c244ec6c11e4",
   "metadata": {},
   "outputs": [],
   "source": [
    "df_lexicon = df_train_test[[\"ISO\"]+feature_names]"
   ]
  },
  {
   "cell_type": "code",
   "execution_count": 299,
   "id": "5327da1f-8eb6-469d-a68f-3132dfc31b33",
   "metadata": {},
   "outputs": [],
   "source": [
    "df_lexicon = df_lexicon.dropna(subset=feature_names, axis=0, how=\"all\")"
   ]
  },
  {
   "cell_type": "code",
   "execution_count": 300,
   "id": "9516b416-ddc4-49b9-8c59-eff9785b2cf9",
   "metadata": {},
   "outputs": [],
   "source": [
    "df_lexicon.to_csv(os.path.join(data_dir, \"lexicon.csv\"), index=False)"
   ]
  },
  {
   "cell_type": "code",
   "execution_count": 301,
   "id": "432c112e-2a21-424d-96f8-c3f67612d3e2",
   "metadata": {},
   "outputs": [
    {
     "data": {
      "text/plain": [
       "888"
      ]
     },
     "execution_count": 301,
     "metadata": {},
     "output_type": "execute_result"
    }
   ],
   "source": [
    "len(df_lexicon)"
   ]
  },
  {
   "cell_type": "code",
   "execution_count": 5,
   "id": "4ea9b082-98d1-4f50-a3ff-3c3f29810470",
   "metadata": {},
   "outputs": [],
   "source": [
    "# clics_prone_concat+max\n",
    "# wn_glove_add+avg\n",
    "# wn+concept_glove_concat+avg"
   ]
  },
  {
   "cell_type": "code",
   "execution_count": 302,
   "id": "7043f49b-2d37-42a2-bb4e-5d81ffcd29b4",
   "metadata": {},
   "outputs": [],
   "source": [
    "with open(\"../data/TypPred/wals+clics_langs.json\") as f:\n",
    "          clics_langs = json.load(f)"
   ]
  },
  {
   "cell_type": "code",
   "execution_count": 303,
   "id": "db37d26e-8fe9-448d-abc1-64d1c7c0bb5a",
   "metadata": {},
   "outputs": [],
   "source": [
    "with open(\"../data/TypPred/wals+wn_langs.json\") as f:\n",
    "          wn_langs = json.load(f)"
   ]
  },
  {
   "cell_type": "code",
   "execution_count": 304,
   "id": "c17c3ed3-9ecc-4f44-9686-5f7337c14a35",
   "metadata": {},
   "outputs": [],
   "source": [
    "df_clics = df_lexicon[df_lexicon[\"ISO\"].isin(clics_langs)]\n",
    "df_clics = df_clics.fillna(-1)"
   ]
  },
  {
   "cell_type": "code",
   "execution_count": 305,
   "id": "9f90abdb-3d4d-472a-89a7-c914d445001c",
   "metadata": {},
   "outputs": [],
   "source": [
    "clics_vectors={}\n",
    "for lang in df_clics[\"ISO\"].tolist():\n",
    "    lang_vector = df_clics[df_clics[\"ISO\"]==lang][feature_names].to_numpy()\n",
    "    clics_vectors[lang] = lang_vector"
   ]
  },
  {
   "cell_type": "code",
   "execution_count": 306,
   "id": "e29bbbc2-c883-48b9-88a3-b7f243e43413",
   "metadata": {},
   "outputs": [
    {
     "data": {
      "text/plain": [
       "343"
      ]
     },
     "execution_count": 306,
     "metadata": {},
     "output_type": "execute_result"
    }
   ],
   "source": [
    "len(df_clics)"
   ]
  },
  {
   "cell_type": "code",
   "execution_count": 307,
   "id": "ff281aba-d4c4-44e5-be63-d99c21869c1e",
   "metadata": {},
   "outputs": [],
   "source": [
    "clics_embeddings = KeyedVectors.load_word2vec_format(os.path.join(\"../data/language_embeddings/concat+max\", \"clics_prone_embeddings\" ), binary=False)\n"
   ]
  },
  {
   "cell_type": "code",
   "execution_count": 308,
   "id": "912d09e3-33d5-4172-999e-16fafdd72a01",
   "metadata": {},
   "outputs": [],
   "source": [
    "langs_clics = df_clics[\"ISO\"].tolist()\n",
    "lang1_ls =[]\n",
    "lang2_ls =[]\n",
    "\n",
    "feature_distances_clics = []\n",
    "lang_distances_clics =[]\n",
    "\n",
    "for comb in combinations(langs_clics,2 ):\n",
    "    comb = sorted(comb)\n",
    "    l1, l2 = comb\n",
    "    lang1_ls.append(l1)\n",
    "    lang2_ls.append(l2)\n",
    "    \n",
    "    feature_distance = cosine_similarity(clics_vectors[l1], clics_vectors[l2])[0][0]\n",
    "    lang_distances_clics_ = cosine_similarity(clics_embeddings[l1].reshape(1,-1), clics_embeddings[l2].reshape(1,-1))[0][0]\n",
    "    \n",
    "    feature_distances_clics.append(feature_distance)\n",
    "    lang_distances_clics.append(lang_distances_clics_)\n",
    "    "
   ]
  },
  {
   "cell_type": "code",
   "execution_count": 309,
   "id": "e0fcacab-ce0b-4ff7-8e04-efe4839d3076",
   "metadata": {},
   "outputs": [],
   "source": [
    "df_distance_clics = pd.DataFrame.from_dict({\"ISO1\":lang1_ls, \"ISO2\":lang2_ls, \"feature_distance\":feature_distances_clics, \"lang_distance_clics\":lang_distances_clics})\n"
   ]
  },
  {
   "cell_type": "code",
   "execution_count": 310,
   "id": "598b1e94-44d3-4061-9644-22763ad834c3",
   "metadata": {},
   "outputs": [],
   "source": [
    "df_distance_clics.to_csv(\"../output/distance_clics.csv\", index=False)"
   ]
  },
  {
   "cell_type": "code",
   "execution_count": null,
   "id": "a86b6195-ac3b-408a-a7a0-4ddc858a2468",
   "metadata": {},
   "outputs": [],
   "source": []
  },
  {
   "cell_type": "code",
   "execution_count": 311,
   "id": "fdefaf0b-8c8e-4ca8-94fc-8a03118fcb78",
   "metadata": {},
   "outputs": [
    {
     "data": {
      "text/plain": [
       "330"
      ]
     },
     "execution_count": 311,
     "metadata": {},
     "output_type": "execute_result"
    }
   ],
   "source": [
    "len(wn_langs)"
   ]
  },
  {
   "cell_type": "code",
   "execution_count": 312,
   "id": "30e48ccf-f9df-43ce-ba38-901effac74a9",
   "metadata": {},
   "outputs": [],
   "source": [
    "df_wn = df_lexicon[df_lexicon[\"ISO\"].isin(wn_langs)]"
   ]
  },
  {
   "cell_type": "code",
   "execution_count": 313,
   "id": "3ade6627-f3b3-47b1-9ac6-7b4cb944062f",
   "metadata": {},
   "outputs": [],
   "source": [
    "df_wn = df_wn.fillna(-1)"
   ]
  },
  {
   "cell_type": "code",
   "execution_count": 314,
   "id": "98cab85b-b37c-485e-8f76-9cb12ab09fbe",
   "metadata": {
    "scrolled": true,
    "tags": []
   },
   "outputs": [],
   "source": [
    "wn_vectors={}\n",
    "for lang in df_wn[\"ISO\"].tolist():\n",
    "    lang_vector = df_wn[df_wn[\"ISO\"]==lang][feature_names].to_numpy()\n",
    "    wn_vectors[lang] = lang_vector"
   ]
  },
  {
   "cell_type": "code",
   "execution_count": 315,
   "id": "49c27df6-421f-41ff-b15a-d2f3ad674f01",
   "metadata": {
    "scrolled": true,
    "tags": []
   },
   "outputs": [
    {
     "data": {
      "text/plain": [
       "array([[0.99118926]])"
      ]
     },
     "execution_count": 315,
     "metadata": {},
     "output_type": "execute_result"
    }
   ],
   "source": [
    "cosine_similarity(wn_vectors[\"eng\"], wn_vectors[\"deu\"])"
   ]
  },
  {
   "cell_type": "code",
   "execution_count": 316,
   "id": "c813854d-4361-4fd6-8458-b897b118f1d5",
   "metadata": {},
   "outputs": [
    {
     "data": {
      "text/plain": [
       "array([[-0.40291148]])"
      ]
     },
     "execution_count": 316,
     "metadata": {},
     "output_type": "execute_result"
    }
   ],
   "source": [
    "cosine_similarity(wn_vectors[\"eng\"], wn_vectors[\"nld\"])"
   ]
  },
  {
   "cell_type": "code",
   "execution_count": 317,
   "id": "6b8dfe84-6b63-446b-b45f-c2b9ace162ce",
   "metadata": {},
   "outputs": [
    {
     "data": {
      "text/plain": [
       "array([[0.18974231]], dtype=float32)"
      ]
     },
     "execution_count": 317,
     "metadata": {},
     "output_type": "execute_result"
    }
   ],
   "source": [
    "cosine_similarity(wn_embeddings[\"eng\"].reshape(1,-1), wn_embeddings[\"nld\"].reshape(1,-1))"
   ]
  },
  {
   "cell_type": "code",
   "execution_count": 318,
   "id": "17769761-d904-4b31-a452-918c134b65e1",
   "metadata": {},
   "outputs": [],
   "source": [
    "# wn_glove_add+avg\n",
    "# wn+concept_glove_concat+avg\n",
    "wn_embeddings = KeyedVectors.load_word2vec_format(os.path.join(\"../data/language_embeddings/add+avg\", \"wn_glove_embeddings\" ), binary=False)\n",
    "wn_concept_embeddings = KeyedVectors.load_word2vec_format(os.path.join(\"../data/language_embeddings/concat+avg\", \"wn_concept_glove_embeddings\" ), binary=False)"
   ]
  },
  {
   "cell_type": "code",
   "execution_count": 319,
   "id": "cc5b003c-9d57-4435-9dc3-90e47d16f72a",
   "metadata": {},
   "outputs": [],
   "source": [
    "langs_wn = df_wn[\"ISO\"].tolist()\n",
    "lang1_ls =[]\n",
    "lang2_ls =[]\n",
    "\n",
    "feature_distances_wn = []\n",
    "lang_distances_wn =[]\n",
    "lang_distances_wn_concept= []\n",
    "\n",
    "for comb in combinations(langs_wn,2 ):\n",
    "    comb = sorted(comb)\n",
    "    l1, l2 = comb\n",
    "    lang1_ls.append(l1)\n",
    "    lang2_ls.append(l2)\n",
    "    \n",
    "#     feature_distance = distance.cosine(wn_vectors[l1], wn_vectors[l2])\n",
    "#     lang_distances_wn_ = distance.cosine(wn_embeddings[l1].reshape(1,-1), wn_embeddings[l2].reshape(1,-1))\n",
    "#     lang_distances_wn_concept_ = distance.cosine(wn_concept_embeddings[l1].reshape(1,-1), wn_concept_embeddings[l2].reshape(1,-1))\n",
    "    \n",
    "    feature_distance = cosine_similarity(wn_vectors[l1], wn_vectors[l2])[0][0]\n",
    "    lang_distances_wn_ = cosine_similarity(wn_embeddings[l1].reshape(1,-1), wn_embeddings[l2].reshape(1,-1))[0][0]\n",
    "    lang_distances_wn_concept_ = cosine_similarity(wn_concept_embeddings[l1].reshape(1,-1), wn_concept_embeddings[l2].reshape(1,-1))[0][0]\n",
    "    feature_distances_wn.append(feature_distance)\n",
    "    lang_distances_wn.append(lang_distances_wn_)\n",
    "    lang_distances_wn_concept.append(lang_distances_wn_concept_)"
   ]
  },
  {
   "cell_type": "code",
   "execution_count": 320,
   "id": "c962b1a0-a518-4f12-9660-68a763676340",
   "metadata": {},
   "outputs": [
    {
     "data": {
      "text/html": [
       "<div>\n",
       "<style scoped>\n",
       "    .dataframe tbody tr th:only-of-type {\n",
       "        vertical-align: middle;\n",
       "    }\n",
       "\n",
       "    .dataframe tbody tr th {\n",
       "        vertical-align: top;\n",
       "    }\n",
       "\n",
       "    .dataframe thead th {\n",
       "        text-align: right;\n",
       "    }\n",
       "</style>\n",
       "<table border=\"1\" class=\"dataframe\">\n",
       "  <thead>\n",
       "    <tr style=\"text-align: right;\">\n",
       "      <th></th>\n",
       "      <th>ISO1</th>\n",
       "      <th>ISO2</th>\n",
       "      <th>feature_distance</th>\n",
       "      <th>lang_distance_wn</th>\n",
       "      <th>lang_distance_wn_concept</th>\n",
       "    </tr>\n",
       "  </thead>\n",
       "  <tbody>\n",
       "    <tr>\n",
       "      <th>0</th>\n",
       "      <td>eng</td>\n",
       "      <td>kat</td>\n",
       "      <td>-0.400892</td>\n",
       "      <td>-0.120365</td>\n",
       "      <td>0.089329</td>\n",
       "    </tr>\n",
       "    <tr>\n",
       "      <th>1</th>\n",
       "      <td>eng</td>\n",
       "      <td>lez</td>\n",
       "      <td>-0.519701</td>\n",
       "      <td>-0.084671</td>\n",
       "      <td>-0.030571</td>\n",
       "    </tr>\n",
       "    <tr>\n",
       "      <th>2</th>\n",
       "      <td>eng</td>\n",
       "      <td>evn</td>\n",
       "      <td>-0.489979</td>\n",
       "      <td>-0.073993</td>\n",
       "      <td>0.014623</td>\n",
       "    </tr>\n",
       "    <tr>\n",
       "      <th>3</th>\n",
       "      <td>abk</td>\n",
       "      <td>eng</td>\n",
       "      <td>-0.519701</td>\n",
       "      <td>-0.087824</td>\n",
       "      <td>-0.050268</td>\n",
       "    </tr>\n",
       "    <tr>\n",
       "      <th>4</th>\n",
       "      <td>arz</td>\n",
       "      <td>eng</td>\n",
       "      <td>-0.505076</td>\n",
       "      <td>-0.045466</td>\n",
       "      <td>-0.004394</td>\n",
       "    </tr>\n",
       "    <tr>\n",
       "      <th>...</th>\n",
       "      <td>...</td>\n",
       "      <td>...</td>\n",
       "      <td>...</td>\n",
       "      <td>...</td>\n",
       "      <td>...</td>\n",
       "    </tr>\n",
       "    <tr>\n",
       "      <th>23215</th>\n",
       "      <td>kum</td>\n",
       "      <td>rmy</td>\n",
       "      <td>0.678401</td>\n",
       "      <td>0.956402</td>\n",
       "      <td>0.971392</td>\n",
       "    </tr>\n",
       "    <tr>\n",
       "      <th>23216</th>\n",
       "      <td>rmy</td>\n",
       "      <td>tsn</td>\n",
       "      <td>0.904534</td>\n",
       "      <td>0.941226</td>\n",
       "      <td>0.948909</td>\n",
       "    </tr>\n",
       "    <tr>\n",
       "      <th>23217</th>\n",
       "      <td>kmr</td>\n",
       "      <td>kum</td>\n",
       "      <td>0.783349</td>\n",
       "      <td>0.786085</td>\n",
       "      <td>0.754341</td>\n",
       "    </tr>\n",
       "    <tr>\n",
       "      <th>23218</th>\n",
       "      <td>kmr</td>\n",
       "      <td>tsn</td>\n",
       "      <td>0.870388</td>\n",
       "      <td>0.796016</td>\n",
       "      <td>0.763995</td>\n",
       "    </tr>\n",
       "    <tr>\n",
       "      <th>23219</th>\n",
       "      <td>kum</td>\n",
       "      <td>tsn</td>\n",
       "      <td>0.909091</td>\n",
       "      <td>0.959184</td>\n",
       "      <td>0.956687</td>\n",
       "    </tr>\n",
       "  </tbody>\n",
       "</table>\n",
       "<p>23220 rows × 5 columns</p>\n",
       "</div>"
      ],
      "text/plain": [
       "      ISO1 ISO2  feature_distance  lang_distance_wn  lang_distance_wn_concept\n",
       "0      eng  kat         -0.400892         -0.120365                  0.089329\n",
       "1      eng  lez         -0.519701         -0.084671                 -0.030571\n",
       "2      eng  evn         -0.489979         -0.073993                  0.014623\n",
       "3      abk  eng         -0.519701         -0.087824                 -0.050268\n",
       "4      arz  eng         -0.505076         -0.045466                 -0.004394\n",
       "...    ...  ...               ...               ...                       ...\n",
       "23215  kum  rmy          0.678401          0.956402                  0.971392\n",
       "23216  rmy  tsn          0.904534          0.941226                  0.948909\n",
       "23217  kmr  kum          0.783349          0.786085                  0.754341\n",
       "23218  kmr  tsn          0.870388          0.796016                  0.763995\n",
       "23219  kum  tsn          0.909091          0.959184                  0.956687\n",
       "\n",
       "[23220 rows x 5 columns]"
      ]
     },
     "execution_count": 320,
     "metadata": {},
     "output_type": "execute_result"
    }
   ],
   "source": [
    "df_distance_wn = pd.DataFrame.from_dict({\"ISO1\":lang1_ls, \"ISO2\":lang2_ls, \"feature_distance\":feature_distances_wn, \"lang_distance_wn\":lang_distances_wn, \"lang_distance_wn_concept\":lang_distances_wn_concept})\n",
    "df_distance_wn"
   ]
  },
  {
   "cell_type": "code",
   "execution_count": 99,
   "id": "8128bb2a-9636-4e18-addd-2c4388fe0e27",
   "metadata": {},
   "outputs": [
    {
     "data": {
      "text/html": [
       "<div>\n",
       "<style scoped>\n",
       "    .dataframe tbody tr th:only-of-type {\n",
       "        vertical-align: middle;\n",
       "    }\n",
       "\n",
       "    .dataframe tbody tr th {\n",
       "        vertical-align: top;\n",
       "    }\n",
       "\n",
       "    .dataframe thead th {\n",
       "        text-align: right;\n",
       "    }\n",
       "</style>\n",
       "<table border=\"1\" class=\"dataframe\">\n",
       "  <thead>\n",
       "    <tr style=\"text-align: right;\">\n",
       "      <th></th>\n",
       "      <th>ISO1</th>\n",
       "      <th>ISO2</th>\n",
       "      <th>feature_distance</th>\n",
       "      <th>lang_distance_wn</th>\n",
       "      <th>lang_distance_wn_concept</th>\n",
       "    </tr>\n",
       "  </thead>\n",
       "  <tbody>\n",
       "    <tr>\n",
       "      <th>0</th>\n",
       "      <td>eng</td>\n",
       "      <td>kat</td>\n",
       "      <td>-0.400892</td>\n",
       "      <td>-0.120365</td>\n",
       "      <td>0.089329</td>\n",
       "    </tr>\n",
       "    <tr>\n",
       "      <th>1</th>\n",
       "      <td>eng</td>\n",
       "      <td>lez</td>\n",
       "      <td>-0.519701</td>\n",
       "      <td>-0.084671</td>\n",
       "      <td>-0.030571</td>\n",
       "    </tr>\n",
       "    <tr>\n",
       "      <th>2</th>\n",
       "      <td>eng</td>\n",
       "      <td>evn</td>\n",
       "      <td>-0.489979</td>\n",
       "      <td>-0.073993</td>\n",
       "      <td>0.014623</td>\n",
       "    </tr>\n",
       "    <tr>\n",
       "      <th>3</th>\n",
       "      <td>abk</td>\n",
       "      <td>eng</td>\n",
       "      <td>-0.519701</td>\n",
       "      <td>-0.087824</td>\n",
       "      <td>-0.050268</td>\n",
       "    </tr>\n",
       "    <tr>\n",
       "      <th>4</th>\n",
       "      <td>arz</td>\n",
       "      <td>eng</td>\n",
       "      <td>-0.505076</td>\n",
       "      <td>-0.045466</td>\n",
       "      <td>-0.004394</td>\n",
       "    </tr>\n",
       "    <tr>\n",
       "      <th>...</th>\n",
       "      <td>...</td>\n",
       "      <td>...</td>\n",
       "      <td>...</td>\n",
       "      <td>...</td>\n",
       "      <td>...</td>\n",
       "    </tr>\n",
       "    <tr>\n",
       "      <th>23215</th>\n",
       "      <td>kum</td>\n",
       "      <td>rmy</td>\n",
       "      <td>0.678401</td>\n",
       "      <td>0.956402</td>\n",
       "      <td>0.971392</td>\n",
       "    </tr>\n",
       "    <tr>\n",
       "      <th>23216</th>\n",
       "      <td>rmy</td>\n",
       "      <td>tsn</td>\n",
       "      <td>0.904534</td>\n",
       "      <td>0.941226</td>\n",
       "      <td>0.948909</td>\n",
       "    </tr>\n",
       "    <tr>\n",
       "      <th>23217</th>\n",
       "      <td>kmr</td>\n",
       "      <td>kum</td>\n",
       "      <td>0.783349</td>\n",
       "      <td>0.786085</td>\n",
       "      <td>0.754341</td>\n",
       "    </tr>\n",
       "    <tr>\n",
       "      <th>23218</th>\n",
       "      <td>kmr</td>\n",
       "      <td>tsn</td>\n",
       "      <td>0.870388</td>\n",
       "      <td>0.796016</td>\n",
       "      <td>0.763995</td>\n",
       "    </tr>\n",
       "    <tr>\n",
       "      <th>23219</th>\n",
       "      <td>kum</td>\n",
       "      <td>tsn</td>\n",
       "      <td>0.909091</td>\n",
       "      <td>0.959184</td>\n",
       "      <td>0.956687</td>\n",
       "    </tr>\n",
       "  </tbody>\n",
       "</table>\n",
       "<p>23220 rows × 5 columns</p>\n",
       "</div>"
      ],
      "text/plain": [
       "      ISO1 ISO2  feature_distance  lang_distance_wn  lang_distance_wn_concept\n",
       "0      eng  kat         -0.400892         -0.120365                  0.089329\n",
       "1      eng  lez         -0.519701         -0.084671                 -0.030571\n",
       "2      eng  evn         -0.489979         -0.073993                  0.014623\n",
       "3      abk  eng         -0.519701         -0.087824                 -0.050268\n",
       "4      arz  eng         -0.505076         -0.045466                 -0.004394\n",
       "...    ...  ...               ...               ...                       ...\n",
       "23215  kum  rmy          0.678401          0.956402                  0.971392\n",
       "23216  rmy  tsn          0.904534          0.941226                  0.948909\n",
       "23217  kmr  kum          0.783349          0.786085                  0.754341\n",
       "23218  kmr  tsn          0.870388          0.796016                  0.763995\n",
       "23219  kum  tsn          0.909091          0.959184                  0.956687\n",
       "\n",
       "[23220 rows x 5 columns]"
      ]
     },
     "execution_count": 99,
     "metadata": {},
     "output_type": "execute_result"
    }
   ],
   "source": [
    "df_distance_wn = pd.DataFrame.from_dict({\"ISO1\":lang1_ls, \"ISO2\":lang2_ls, \"feature_distance\":feature_distances_wn, \"lang_distance_wn\":lang_distances_wn, \"lang_distance_wn_concept\":lang_distances_wn_concept})\n",
    "df_distance_wn"
   ]
  },
  {
   "cell_type": "code",
   "execution_count": 321,
   "id": "4eebfbab-5f46-48ba-94f9-f1faf773e013",
   "metadata": {},
   "outputs": [],
   "source": [
    "df_distance_wn.to_csv(\"../output/distance_wn.csv\", index=False)"
   ]
  },
  {
   "cell_type": "code",
   "execution_count": null,
   "id": "5648f2ac-e2f9-44ef-9471-9366efbf0ffb",
   "metadata": {},
   "outputs": [],
   "source": []
  }
 ],
 "metadata": {
  "kernelspec": {
   "display_name": "nodeEmb",
   "language": "python",
   "name": "nodemb"
  },
  "language_info": {
   "codemirror_mode": {
    "name": "ipython",
    "version": 3
   },
   "file_extension": ".py",
   "mimetype": "text/x-python",
   "name": "python",
   "nbconvert_exporter": "python",
   "pygments_lexer": "ipython3",
   "version": "3.9.15"
  }
 },
 "nbformat": 4,
 "nbformat_minor": 5
}
